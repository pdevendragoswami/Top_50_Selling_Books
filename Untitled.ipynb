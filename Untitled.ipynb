{
 "cells": [
  {
   "cell_type": "markdown",
   "id": "66885e0a",
   "metadata": {},
   "source": [
    "# Trend Analysis of Amazon Top 50 Book over a Decade"
   ]
  },
  {
   "cell_type": "code",
   "execution_count": 1,
   "id": "106ac298",
   "metadata": {},
   "outputs": [],
   "source": [
    "import numpy as np\n",
    "import pandas as pd\n",
    "import matplotlib.pyplot as plt\n",
    "import seaborn as sns\n",
    "\n",
    "import warnings\n",
    "warnings.filterwarnings(\"ignore\")"
   ]
  },
  {
   "cell_type": "code",
   "execution_count": 2,
   "id": "df423330",
   "metadata": {},
   "outputs": [],
   "source": [
    "df=pd.read_csv(\"bestsellers with categories.csv\")"
   ]
  },
  {
   "cell_type": "markdown",
   "id": "ed36618b",
   "metadata": {},
   "source": [
    "# 1st Five Row of Dataset\n"
   ]
  },
  {
   "cell_type": "code",
   "execution_count": 3,
   "id": "a2dd5c01",
   "metadata": {},
   "outputs": [
    {
     "data": {
      "text/html": [
       "<div>\n",
       "<style scoped>\n",
       "    .dataframe tbody tr th:only-of-type {\n",
       "        vertical-align: middle;\n",
       "    }\n",
       "\n",
       "    .dataframe tbody tr th {\n",
       "        vertical-align: top;\n",
       "    }\n",
       "\n",
       "    .dataframe thead th {\n",
       "        text-align: right;\n",
       "    }\n",
       "</style>\n",
       "<table border=\"1\" class=\"dataframe\">\n",
       "  <thead>\n",
       "    <tr style=\"text-align: right;\">\n",
       "      <th></th>\n",
       "      <th>Name</th>\n",
       "      <th>Author</th>\n",
       "      <th>User Rating</th>\n",
       "      <th>Reviews</th>\n",
       "      <th>Price</th>\n",
       "      <th>Year</th>\n",
       "      <th>Genre</th>\n",
       "    </tr>\n",
       "  </thead>\n",
       "  <tbody>\n",
       "    <tr>\n",
       "      <th>0</th>\n",
       "      <td>10-Day Green Smoothie Cleanse</td>\n",
       "      <td>JJ Smith</td>\n",
       "      <td>4.7</td>\n",
       "      <td>17350</td>\n",
       "      <td>8</td>\n",
       "      <td>2016</td>\n",
       "      <td>Non Fiction</td>\n",
       "    </tr>\n",
       "    <tr>\n",
       "      <th>1</th>\n",
       "      <td>11/22/63: A Novel</td>\n",
       "      <td>Stephen King</td>\n",
       "      <td>4.6</td>\n",
       "      <td>2052</td>\n",
       "      <td>22</td>\n",
       "      <td>2011</td>\n",
       "      <td>Fiction</td>\n",
       "    </tr>\n",
       "    <tr>\n",
       "      <th>2</th>\n",
       "      <td>12 Rules for Life: An Antidote to Chaos</td>\n",
       "      <td>Jordan B. Peterson</td>\n",
       "      <td>4.7</td>\n",
       "      <td>18979</td>\n",
       "      <td>15</td>\n",
       "      <td>2018</td>\n",
       "      <td>Non Fiction</td>\n",
       "    </tr>\n",
       "    <tr>\n",
       "      <th>3</th>\n",
       "      <td>1984 (Signet Classics)</td>\n",
       "      <td>George Orwell</td>\n",
       "      <td>4.7</td>\n",
       "      <td>21424</td>\n",
       "      <td>6</td>\n",
       "      <td>2017</td>\n",
       "      <td>Fiction</td>\n",
       "    </tr>\n",
       "    <tr>\n",
       "      <th>4</th>\n",
       "      <td>5,000 Awesome Facts (About Everything!) (Natio...</td>\n",
       "      <td>National Geographic Kids</td>\n",
       "      <td>4.8</td>\n",
       "      <td>7665</td>\n",
       "      <td>12</td>\n",
       "      <td>2019</td>\n",
       "      <td>Non Fiction</td>\n",
       "    </tr>\n",
       "  </tbody>\n",
       "</table>\n",
       "</div>"
      ],
      "text/plain": [
       "                                                Name  \\\n",
       "0                      10-Day Green Smoothie Cleanse   \n",
       "1                                  11/22/63: A Novel   \n",
       "2            12 Rules for Life: An Antidote to Chaos   \n",
       "3                             1984 (Signet Classics)   \n",
       "4  5,000 Awesome Facts (About Everything!) (Natio...   \n",
       "\n",
       "                     Author  User Rating  Reviews  Price  Year        Genre  \n",
       "0                  JJ Smith          4.7    17350      8  2016  Non Fiction  \n",
       "1              Stephen King          4.6     2052     22  2011      Fiction  \n",
       "2        Jordan B. Peterson          4.7    18979     15  2018  Non Fiction  \n",
       "3             George Orwell          4.7    21424      6  2017      Fiction  \n",
       "4  National Geographic Kids          4.8     7665     12  2019  Non Fiction  "
      ]
     },
     "execution_count": 3,
     "metadata": {},
     "output_type": "execute_result"
    }
   ],
   "source": [
    "df.head()"
   ]
  },
  {
   "cell_type": "markdown",
   "id": "7efa6875",
   "metadata": {},
   "source": [
    "# Last Five Row Of Dataset"
   ]
  },
  {
   "cell_type": "code",
   "execution_count": 4,
   "id": "4ea892b5",
   "metadata": {},
   "outputs": [
    {
     "data": {
      "text/html": [
       "<div>\n",
       "<style scoped>\n",
       "    .dataframe tbody tr th:only-of-type {\n",
       "        vertical-align: middle;\n",
       "    }\n",
       "\n",
       "    .dataframe tbody tr th {\n",
       "        vertical-align: top;\n",
       "    }\n",
       "\n",
       "    .dataframe thead th {\n",
       "        text-align: right;\n",
       "    }\n",
       "</style>\n",
       "<table border=\"1\" class=\"dataframe\">\n",
       "  <thead>\n",
       "    <tr style=\"text-align: right;\">\n",
       "      <th></th>\n",
       "      <th>Name</th>\n",
       "      <th>Author</th>\n",
       "      <th>User Rating</th>\n",
       "      <th>Reviews</th>\n",
       "      <th>Price</th>\n",
       "      <th>Year</th>\n",
       "      <th>Genre</th>\n",
       "    </tr>\n",
       "  </thead>\n",
       "  <tbody>\n",
       "    <tr>\n",
       "      <th>545</th>\n",
       "      <td>Wrecking Ball (Diary of a Wimpy Kid Book 14)</td>\n",
       "      <td>Jeff Kinney</td>\n",
       "      <td>4.9</td>\n",
       "      <td>9413</td>\n",
       "      <td>8</td>\n",
       "      <td>2019</td>\n",
       "      <td>Fiction</td>\n",
       "    </tr>\n",
       "    <tr>\n",
       "      <th>546</th>\n",
       "      <td>You Are a Badass: How to Stop Doubting Your Gr...</td>\n",
       "      <td>Jen Sincero</td>\n",
       "      <td>4.7</td>\n",
       "      <td>14331</td>\n",
       "      <td>8</td>\n",
       "      <td>2016</td>\n",
       "      <td>Non Fiction</td>\n",
       "    </tr>\n",
       "    <tr>\n",
       "      <th>547</th>\n",
       "      <td>You Are a Badass: How to Stop Doubting Your Gr...</td>\n",
       "      <td>Jen Sincero</td>\n",
       "      <td>4.7</td>\n",
       "      <td>14331</td>\n",
       "      <td>8</td>\n",
       "      <td>2017</td>\n",
       "      <td>Non Fiction</td>\n",
       "    </tr>\n",
       "    <tr>\n",
       "      <th>548</th>\n",
       "      <td>You Are a Badass: How to Stop Doubting Your Gr...</td>\n",
       "      <td>Jen Sincero</td>\n",
       "      <td>4.7</td>\n",
       "      <td>14331</td>\n",
       "      <td>8</td>\n",
       "      <td>2018</td>\n",
       "      <td>Non Fiction</td>\n",
       "    </tr>\n",
       "    <tr>\n",
       "      <th>549</th>\n",
       "      <td>You Are a Badass: How to Stop Doubting Your Gr...</td>\n",
       "      <td>Jen Sincero</td>\n",
       "      <td>4.7</td>\n",
       "      <td>14331</td>\n",
       "      <td>8</td>\n",
       "      <td>2019</td>\n",
       "      <td>Non Fiction</td>\n",
       "    </tr>\n",
       "  </tbody>\n",
       "</table>\n",
       "</div>"
      ],
      "text/plain": [
       "                                                  Name       Author  \\\n",
       "545       Wrecking Ball (Diary of a Wimpy Kid Book 14)  Jeff Kinney   \n",
       "546  You Are a Badass: How to Stop Doubting Your Gr...  Jen Sincero   \n",
       "547  You Are a Badass: How to Stop Doubting Your Gr...  Jen Sincero   \n",
       "548  You Are a Badass: How to Stop Doubting Your Gr...  Jen Sincero   \n",
       "549  You Are a Badass: How to Stop Doubting Your Gr...  Jen Sincero   \n",
       "\n",
       "     User Rating  Reviews  Price  Year        Genre  \n",
       "545          4.9     9413      8  2019      Fiction  \n",
       "546          4.7    14331      8  2016  Non Fiction  \n",
       "547          4.7    14331      8  2017  Non Fiction  \n",
       "548          4.7    14331      8  2018  Non Fiction  \n",
       "549          4.7    14331      8  2019  Non Fiction  "
      ]
     },
     "execution_count": 4,
     "metadata": {},
     "output_type": "execute_result"
    }
   ],
   "source": [
    "df.tail()"
   ]
  },
  {
   "cell_type": "markdown",
   "id": "fc3caa25",
   "metadata": {},
   "source": [
    "# Information About the Dataset"
   ]
  },
  {
   "cell_type": "code",
   "execution_count": 5,
   "id": "4bfee241",
   "metadata": {},
   "outputs": [
    {
     "name": "stdout",
     "output_type": "stream",
     "text": [
      "<class 'pandas.core.frame.DataFrame'>\n",
      "RangeIndex: 550 entries, 0 to 549\n",
      "Data columns (total 7 columns):\n",
      " #   Column       Non-Null Count  Dtype  \n",
      "---  ------       --------------  -----  \n",
      " 0   Name         550 non-null    object \n",
      " 1   Author       550 non-null    object \n",
      " 2   User Rating  550 non-null    float64\n",
      " 3   Reviews      550 non-null    int64  \n",
      " 4   Price        550 non-null    int64  \n",
      " 5   Year         550 non-null    int64  \n",
      " 6   Genre        550 non-null    object \n",
      "dtypes: float64(1), int64(3), object(3)\n",
      "memory usage: 30.2+ KB\n"
     ]
    }
   ],
   "source": [
    "df.info()"
   ]
  },
  {
   "cell_type": "markdown",
   "id": "7c4079f6",
   "metadata": {},
   "source": [
    "# Checking Null Values in Dataset"
   ]
  },
  {
   "cell_type": "code",
   "execution_count": 6,
   "id": "12b79eb1",
   "metadata": {},
   "outputs": [
    {
     "data": {
      "text/plain": [
       "Name           0\n",
       "Author         0\n",
       "User Rating    0\n",
       "Reviews        0\n",
       "Price          0\n",
       "Year           0\n",
       "Genre          0\n",
       "dtype: int64"
      ]
     },
     "execution_count": 6,
     "metadata": {},
     "output_type": "execute_result"
    }
   ],
   "source": [
    "df.isna().sum()"
   ]
  },
  {
   "cell_type": "markdown",
   "id": "4599c701",
   "metadata": {},
   "source": [
    "# Statistical Description of Dataset"
   ]
  },
  {
   "cell_type": "code",
   "execution_count": 7,
   "id": "84346951",
   "metadata": {},
   "outputs": [
    {
     "data": {
      "text/html": [
       "<div>\n",
       "<style scoped>\n",
       "    .dataframe tbody tr th:only-of-type {\n",
       "        vertical-align: middle;\n",
       "    }\n",
       "\n",
       "    .dataframe tbody tr th {\n",
       "        vertical-align: top;\n",
       "    }\n",
       "\n",
       "    .dataframe thead th {\n",
       "        text-align: right;\n",
       "    }\n",
       "</style>\n",
       "<table border=\"1\" class=\"dataframe\">\n",
       "  <thead>\n",
       "    <tr style=\"text-align: right;\">\n",
       "      <th></th>\n",
       "      <th>User Rating</th>\n",
       "      <th>Reviews</th>\n",
       "      <th>Price</th>\n",
       "      <th>Year</th>\n",
       "    </tr>\n",
       "  </thead>\n",
       "  <tbody>\n",
       "    <tr>\n",
       "      <th>count</th>\n",
       "      <td>550.000000</td>\n",
       "      <td>550.000000</td>\n",
       "      <td>550.000000</td>\n",
       "      <td>550.000000</td>\n",
       "    </tr>\n",
       "    <tr>\n",
       "      <th>mean</th>\n",
       "      <td>4.618364</td>\n",
       "      <td>11953.281818</td>\n",
       "      <td>13.100000</td>\n",
       "      <td>2014.000000</td>\n",
       "    </tr>\n",
       "    <tr>\n",
       "      <th>std</th>\n",
       "      <td>0.226980</td>\n",
       "      <td>11731.132017</td>\n",
       "      <td>10.842262</td>\n",
       "      <td>3.165156</td>\n",
       "    </tr>\n",
       "    <tr>\n",
       "      <th>min</th>\n",
       "      <td>3.300000</td>\n",
       "      <td>37.000000</td>\n",
       "      <td>0.000000</td>\n",
       "      <td>2009.000000</td>\n",
       "    </tr>\n",
       "    <tr>\n",
       "      <th>25%</th>\n",
       "      <td>4.500000</td>\n",
       "      <td>4058.000000</td>\n",
       "      <td>7.000000</td>\n",
       "      <td>2011.000000</td>\n",
       "    </tr>\n",
       "    <tr>\n",
       "      <th>50%</th>\n",
       "      <td>4.700000</td>\n",
       "      <td>8580.000000</td>\n",
       "      <td>11.000000</td>\n",
       "      <td>2014.000000</td>\n",
       "    </tr>\n",
       "    <tr>\n",
       "      <th>75%</th>\n",
       "      <td>4.800000</td>\n",
       "      <td>17253.250000</td>\n",
       "      <td>16.000000</td>\n",
       "      <td>2017.000000</td>\n",
       "    </tr>\n",
       "    <tr>\n",
       "      <th>max</th>\n",
       "      <td>4.900000</td>\n",
       "      <td>87841.000000</td>\n",
       "      <td>105.000000</td>\n",
       "      <td>2019.000000</td>\n",
       "    </tr>\n",
       "  </tbody>\n",
       "</table>\n",
       "</div>"
      ],
      "text/plain": [
       "       User Rating       Reviews       Price         Year\n",
       "count   550.000000    550.000000  550.000000   550.000000\n",
       "mean      4.618364  11953.281818   13.100000  2014.000000\n",
       "std       0.226980  11731.132017   10.842262     3.165156\n",
       "min       3.300000     37.000000    0.000000  2009.000000\n",
       "25%       4.500000   4058.000000    7.000000  2011.000000\n",
       "50%       4.700000   8580.000000   11.000000  2014.000000\n",
       "75%       4.800000  17253.250000   16.000000  2017.000000\n",
       "max       4.900000  87841.000000  105.000000  2019.000000"
      ]
     },
     "execution_count": 7,
     "metadata": {},
     "output_type": "execute_result"
    }
   ],
   "source": [
    "df.describe()"
   ]
  },
  {
   "cell_type": "code",
   "execution_count": 8,
   "id": "0deda550",
   "metadata": {},
   "outputs": [
    {
     "data": {
      "text/html": [
       "<div>\n",
       "<style scoped>\n",
       "    .dataframe tbody tr th:only-of-type {\n",
       "        vertical-align: middle;\n",
       "    }\n",
       "\n",
       "    .dataframe tbody tr th {\n",
       "        vertical-align: top;\n",
       "    }\n",
       "\n",
       "    .dataframe thead th {\n",
       "        text-align: right;\n",
       "    }\n",
       "</style>\n",
       "<table border=\"1\" class=\"dataframe\">\n",
       "  <thead>\n",
       "    <tr style=\"text-align: right;\">\n",
       "      <th></th>\n",
       "      <th>Name</th>\n",
       "      <th>Author</th>\n",
       "      <th>Genre</th>\n",
       "    </tr>\n",
       "  </thead>\n",
       "  <tbody>\n",
       "    <tr>\n",
       "      <th>count</th>\n",
       "      <td>550</td>\n",
       "      <td>550</td>\n",
       "      <td>550</td>\n",
       "    </tr>\n",
       "    <tr>\n",
       "      <th>unique</th>\n",
       "      <td>351</td>\n",
       "      <td>248</td>\n",
       "      <td>2</td>\n",
       "    </tr>\n",
       "    <tr>\n",
       "      <th>top</th>\n",
       "      <td>Publication Manual of the American Psychologic...</td>\n",
       "      <td>Jeff Kinney</td>\n",
       "      <td>Non Fiction</td>\n",
       "    </tr>\n",
       "    <tr>\n",
       "      <th>freq</th>\n",
       "      <td>10</td>\n",
       "      <td>12</td>\n",
       "      <td>310</td>\n",
       "    </tr>\n",
       "  </tbody>\n",
       "</table>\n",
       "</div>"
      ],
      "text/plain": [
       "                                                     Name       Author  \\\n",
       "count                                                 550          550   \n",
       "unique                                                351          248   \n",
       "top     Publication Manual of the American Psychologic...  Jeff Kinney   \n",
       "freq                                                   10           12   \n",
       "\n",
       "              Genre  \n",
       "count           550  \n",
       "unique            2  \n",
       "top     Non Fiction  \n",
       "freq            310  "
      ]
     },
     "execution_count": 8,
     "metadata": {},
     "output_type": "execute_result"
    }
   ],
   "source": [
    "df.describe(include=[object])"
   ]
  },
  {
   "cell_type": "markdown",
   "id": "3d6c2d8e",
   "metadata": {},
   "source": [
    "# Counting the Frequncy of Each Book"
   ]
  },
  {
   "cell_type": "code",
   "execution_count": 9,
   "id": "c61044b7",
   "metadata": {},
   "outputs": [
    {
     "data": {
      "text/plain": [
       "Publication Manual of the American Psychological Association, 6th Edition                      10\n",
       "StrengthsFinder 2.0                                                                             9\n",
       "Oh, the Places You'll Go!                                                                       8\n",
       "The 7 Habits of Highly Effective People: Powerful Lessons in Personal Change                    7\n",
       "The Very Hungry Caterpillar                                                                     7\n",
       "                                                                                               ..\n",
       "The Plant Paradox: The Hidden Dangers in \"Healthy\" Foods That Cause Disease and Weight Gain     1\n",
       "Eclipse (Twilight)                                                                              1\n",
       "I, Alex Cross                                                                                   1\n",
       "A Wrinkle in Time (Time Quintet)                                                                1\n",
       "The Sun and Her Flowers                                                                         1\n",
       "Name: Name, Length: 351, dtype: int64"
      ]
     },
     "execution_count": 9,
     "metadata": {},
     "output_type": "execute_result"
    }
   ],
   "source": [
    "df[\"Name\"].value_counts()"
   ]
  },
  {
   "cell_type": "markdown",
   "id": "66df8fa6",
   "metadata": {},
   "source": [
    "# Book Which is Repeated  the most"
   ]
  },
  {
   "cell_type": "code",
   "execution_count": 10,
   "id": "39983d93",
   "metadata": {},
   "outputs": [
    {
     "data": {
      "text/plain": [
       "'Publication Manual of the American Psychological Association, 6th Edition'"
      ]
     },
     "execution_count": 10,
     "metadata": {},
     "output_type": "execute_result"
    }
   ],
   "source": [
    "df[\"Name\"].value_counts().idxmax()"
   ]
  },
  {
   "cell_type": "markdown",
   "id": "6ec14ae7",
   "metadata": {},
   "source": [
    "# Counting the Values of Author's Name in Dataset"
   ]
  },
  {
   "cell_type": "code",
   "execution_count": 11,
   "id": "dff49984",
   "metadata": {},
   "outputs": [
    {
     "data": {
      "text/plain": [
       "Jeff Kinney                           12\n",
       "Gary Chapman                          11\n",
       "Suzanne Collins                       11\n",
       "Rick Riordan                          11\n",
       "American Psychological Association    10\n",
       "                                      ..\n",
       "Howard Stern                           1\n",
       "Chris Kyle                             1\n",
       "Patrick Thorpe                         1\n",
       "Thomas Campbell                        1\n",
       "Sara Gruen                             1\n",
       "Name: Author, Length: 248, dtype: int64"
      ]
     },
     "execution_count": 11,
     "metadata": {},
     "output_type": "execute_result"
    }
   ],
   "source": [
    "df[\"Author\"].value_counts()"
   ]
  },
  {
   "cell_type": "markdown",
   "id": "dfd8d2cd",
   "metadata": {},
   "source": [
    "# All the Unique Author Name from Dataset"
   ]
  },
  {
   "cell_type": "code",
   "execution_count": 12,
   "id": "e423eea0",
   "metadata": {},
   "outputs": [
    {
     "data": {
      "text/plain": [
       "array(['JJ Smith', 'Stephen King', 'Jordan B. Peterson', 'George Orwell',\n",
       "       'National Geographic Kids', 'George R. R. Martin', 'Amor Towles',\n",
       "       'James Comey', 'Fredrik Backman', 'Larry Schweikart',\n",
       "       'Jaycee Dugard', \"Madeleine L'Engle\", 'Steve Harvey',\n",
       "       'Adult Coloring Book Designs', 'Blue Star Coloring',\n",
       "       'Coloring Books for Adults', 'Ron Chernow', 'Anthony Doerr',\n",
       "       'Veronica Roth', 'Chris Kyle', 'Khaled Hosseini', 'Glenn Beck',\n",
       "       'Neil deGrasse Tyson', 'Mark Twain', 'DK', 'Angie Grace',\n",
       "       'Ina Garten', 'Michelle Obama', 'Atul Gawande', 'Ta-Nehisi Coates',\n",
       "       'Bruce Springsteen', 'Stephenie Meyer', 'Bill Martin Jr.',\n",
       "       'Jeff Kinney', \"Sasha O'Hara\", 'David Goggins', 'Thomas Piketty',\n",
       "       'Suzanne Collins', 'Chrissy Teigen', 'Francis Chan', 'Kevin Kwan',\n",
       "       'Marjorie Sarnat', 'Abraham Verghese', 'Brené Brown',\n",
       "       'Malcolm Gladwell', 'Charlaine Harris', 'Rod Campbell',\n",
       "       'George W. Bush', 'Tony Hsieh', 'American Psychiatric Association',\n",
       "       'M Prefontaine', 'Zhi Gang Sha', 'Dav Pilkey', 'Marty Noble',\n",
       "       'Daniel H. Pink', 'David Zinczenko', 'Joel Fuhrman MD',\n",
       "       'Tara Westover', 'Johanna Basford', 'Ray Bradbury', 'J.K. Rowling',\n",
       "       'Bob Woodward', 'E L James', 'Michael Wolff', 'Roger Priddy',\n",
       "       'Michael Pollan', 'RH Disney', 'John Heilemann',\n",
       "       'George R.R. Martin', 'Peter A. Lillback', 'Brian Kilmeade',\n",
       "       'Giles Andreae', 'Rachel Hollis', 'Harper Lee', 'Adam Mansbach',\n",
       "       'Sarah Palin', 'Gillian Flynn', 'Pretty Simple Press',\n",
       "       'Jim Collins', 'Margaret Wise Brown', 'Sherri Duskey Rinker',\n",
       "       'David Perlmutter MD', 'Raina Telgemeier', 'Lin-Manuel Miranda',\n",
       "       'Phil Robertson', 'J. K. Rowling', 'Scholastic', 'Mitch Albom',\n",
       "       'Todd Burpo', 'J. D. Vance', 'Joanna Gaines', 'Dale Carnegie',\n",
       "       'Howard Stern', 'Brandon Stanton', 'Allie Brosh',\n",
       "       'Hopscotch Girls', 'James Patterson', 'Ann Whitford Paul',\n",
       "       'Gayle Forman', 'Eric Larson', 'Dan Brown', 'Christopher Paolini',\n",
       "       'Jennifer Smith', 'Lysa TerKeurst', 'Sarah Young', 'David Grann',\n",
       "       \"Bill O'Reilly\", 'Anthony Bourdain', 'Rob Elliott', 'Jill Twiss',\n",
       "       'Sheryl Sandberg', 'Walter Isaacson', 'Paper Peony Press',\n",
       "       'Mark R. Levin', 'Keith Richards', 'Chris Cleave',\n",
       "       'Alice Schertle', 'Celeste Ng', 'John Green', 'Rob Bell',\n",
       "       'Robert Munsch', 'Admiral William H. McRaven', 'Julia Child',\n",
       "       'Rupi Kaur', 'Adam Gasiewski', 'Carol S. Dweck', 'Crispin Boyer',\n",
       "       'Amy Shields', 'Elie Wiesel', 'Mark Owen', 'Pete Souza',\n",
       "       'Dr. Seuss', 'Elizabeth Strout', 'Ann Voskamp',\n",
       "       'Christina Baker Kline', 'Naomi Kleinberg', 'Rick Riordan',\n",
       "       'Wizards RPG Team', 'Eben Alexander',\n",
       "       'American Psychological Association', 'Golden Books', 'Susan Cain',\n",
       "       'David Platt', 'Ernest Cline', 'Rush Limbaugh', 'Samin Nosrat',\n",
       "       'Tatiana de Rosnay', 'School Zone', 'Justin Halpern',\n",
       "       'Tucker Carlson', 'Ian K. Smith M.D.', 'Nathan W. Pyle', 'Gallup',\n",
       "       'Steven D. Levitt', 'Chip Heath', 'John Grisham', 'Doug Lemov',\n",
       "       'Mike Moreno', 'Timothy Ferriss', 'Gary Chapman',\n",
       "       'W. Cleon Skousen', 'Stephen R. Covey', 'Paulo Coelho',\n",
       "       'Edward Klein', 'Garth Stein', 'Michael Lewis', 'Mark Hyman M.D.',\n",
       "       'Bessel van der Kolk M.D.', 'Bill Simmons', 'Markus Zusak',\n",
       "       'B. J. Novak', 'Daniel James Brown', 'Thomas Campbell',\n",
       "       'Amy Ramos', 'Delegates of the Constitutional\\x85', 'Jon Stewart',\n",
       "       'Drew Daywalt', 'Pierre Dukan', 'Muriel Barbery',\n",
       "       'Patrick Lencioni', 'Don Miguel Ruiz', 'Paula Hawkins',\n",
       "       'Stieg Larsson', 'Sandra Boynton', 'Donna Tartt',\n",
       "       'F. Scott Fitzgerald', 'Mary Ann Shaffer', 'Margaret Atwood',\n",
       "       'Jonathan Cahn', 'Angie Thomas', 'Kathryn Stockett',\n",
       "       'Rebecca Skloot', 'Laurel Randolph', 'Randy Pausch',\n",
       "       'Patrick Thorpe', 'Daniel Lipkowitz', 'Marie Kondō',\n",
       "       'Stephen Kendrick', 'Chip Gaines', 'Andy Weir', 'James Dashner',\n",
       "       'The Washington Post', 'Kristin Hannah', 'The College Board',\n",
       "       'Paula McLain', 'Ree Drummond', 'Dr. Steven R Gundry MD',\n",
       "       'Deborah Diesen', 'Charles Duhigg', 'F. A. Hayek',\n",
       "       'William P. Young', 'Alex Michaelides', 'Mark Manson',\n",
       "       'Audrey Niffenegger', 'Dave Ramsey', 'Dinah Bucholz', 'Eric Carle',\n",
       "       'Melissa Hartwig Urban', 'Emily Winfield Martin', 'Craig Smith',\n",
       "       'David McCullough', 'Charles Krauthammer', 'Daniel Kahneman',\n",
       "       'Jay Asher', 'Jon Meacham', 'Greg Mortenson', 'Thug Kitchen',\n",
       "       'Tina Fey', 'Robert Jordan', 'Edward M. Kennedy',\n",
       "       'Laura Hillenbrand', 'Silly Bear', 'Alan Moore', 'Sara Gruen',\n",
       "       'Hillary Rodham Clinton', 'Randall Munroe', 'Adir Levy',\n",
       "       'Heidi Murkoff', 'William Davis', 'Paul Kalanithi', 'Delia Owens',\n",
       "       'Maurice Sendak', 'The Staff of The Late Show with\\x85',\n",
       "       'Cheryl Strayed', 'Ken Follett', 'Geneen Roth', 'R. J. Palacio',\n",
       "       'Jen Sincero'], dtype=object)"
      ]
     },
     "execution_count": 12,
     "metadata": {},
     "output_type": "execute_result"
    }
   ],
   "source": [
    "df[\"Author\"].unique()"
   ]
  },
  {
   "cell_type": "markdown",
   "id": "ee88fbd8",
   "metadata": {},
   "source": [
    "# Author Name which is repeated most"
   ]
  },
  {
   "cell_type": "code",
   "execution_count": 13,
   "id": "5fb7400b",
   "metadata": {},
   "outputs": [
    {
     "data": {
      "text/plain": [
       "'Jeff Kinney'"
      ]
     },
     "execution_count": 13,
     "metadata": {},
     "output_type": "execute_result"
    }
   ],
   "source": [
    "df[\"Author\"].value_counts().idxmax()"
   ]
  },
  {
   "cell_type": "markdown",
   "id": "b5bd1af6",
   "metadata": {},
   "source": [
    "# Name of Books of that Author Whose Name is repeated the most"
   ]
  },
  {
   "cell_type": "code",
   "execution_count": 14,
   "id": "8f284534",
   "metadata": {},
   "outputs": [
    {
     "data": {
      "text/html": [
       "<div>\n",
       "<style scoped>\n",
       "    .dataframe tbody tr th:only-of-type {\n",
       "        vertical-align: middle;\n",
       "    }\n",
       "\n",
       "    .dataframe tbody tr th {\n",
       "        vertical-align: top;\n",
       "    }\n",
       "\n",
       "    .dataframe thead th {\n",
       "        text-align: right;\n",
       "    }\n",
       "</style>\n",
       "<table border=\"1\" class=\"dataframe\">\n",
       "  <thead>\n",
       "    <tr style=\"text-align: right;\">\n",
       "      <th></th>\n",
       "      <th>Name</th>\n",
       "      <th>Author</th>\n",
       "      <th>User Rating</th>\n",
       "      <th>Reviews</th>\n",
       "      <th>Price</th>\n",
       "      <th>Year</th>\n",
       "      <th>Genre</th>\n",
       "    </tr>\n",
       "  </thead>\n",
       "  <tbody>\n",
       "    <tr>\n",
       "      <th>72</th>\n",
       "      <td>Diary of a Wimpy Kid: The Last Straw (Book 3)</td>\n",
       "      <td>Jeff Kinney</td>\n",
       "      <td>4.8</td>\n",
       "      <td>3837</td>\n",
       "      <td>15</td>\n",
       "      <td>2009</td>\n",
       "      <td>Fiction</td>\n",
       "    </tr>\n",
       "    <tr>\n",
       "      <th>80</th>\n",
       "      <td>Dog Days (Diary of a Wimpy Kid, Book 4) (Volum...</td>\n",
       "      <td>Jeff Kinney</td>\n",
       "      <td>4.8</td>\n",
       "      <td>3181</td>\n",
       "      <td>12</td>\n",
       "      <td>2009</td>\n",
       "      <td>Fiction</td>\n",
       "    </tr>\n",
       "    <tr>\n",
       "      <th>474</th>\n",
       "      <td>The Ugly Truth (Diary of a Wimpy Kid, Book 5)</td>\n",
       "      <td>Jeff Kinney</td>\n",
       "      <td>4.8</td>\n",
       "      <td>3796</td>\n",
       "      <td>12</td>\n",
       "      <td>2010</td>\n",
       "      <td>Fiction</td>\n",
       "    </tr>\n",
       "    <tr>\n",
       "      <th>42</th>\n",
       "      <td>Cabin Fever (Diary of a Wimpy Kid, Book 6)</td>\n",
       "      <td>Jeff Kinney</td>\n",
       "      <td>4.8</td>\n",
       "      <td>4505</td>\n",
       "      <td>0</td>\n",
       "      <td>2011</td>\n",
       "      <td>Fiction</td>\n",
       "    </tr>\n",
       "    <tr>\n",
       "      <th>468</th>\n",
       "      <td>The Third Wheel (Diary of a Wimpy Kid, Book 7)</td>\n",
       "      <td>Jeff Kinney</td>\n",
       "      <td>4.7</td>\n",
       "      <td>6377</td>\n",
       "      <td>7</td>\n",
       "      <td>2012</td>\n",
       "      <td>Fiction</td>\n",
       "    </tr>\n",
       "    <tr>\n",
       "      <th>71</th>\n",
       "      <td>Diary of a Wimpy Kid: Hard Luck, Book 8</td>\n",
       "      <td>Jeff Kinney</td>\n",
       "      <td>4.8</td>\n",
       "      <td>6812</td>\n",
       "      <td>0</td>\n",
       "      <td>2013</td>\n",
       "      <td>Fiction</td>\n",
       "    </tr>\n",
       "    <tr>\n",
       "      <th>73</th>\n",
       "      <td>Diary of a Wimpy Kid: The Long Haul</td>\n",
       "      <td>Jeff Kinney</td>\n",
       "      <td>4.8</td>\n",
       "      <td>6540</td>\n",
       "      <td>22</td>\n",
       "      <td>2014</td>\n",
       "      <td>Fiction</td>\n",
       "    </tr>\n",
       "    <tr>\n",
       "      <th>253</th>\n",
       "      <td>Old School (Diary of a Wimpy Kid #10)</td>\n",
       "      <td>Jeff Kinney</td>\n",
       "      <td>4.8</td>\n",
       "      <td>6169</td>\n",
       "      <td>7</td>\n",
       "      <td>2015</td>\n",
       "      <td>Fiction</td>\n",
       "    </tr>\n",
       "    <tr>\n",
       "      <th>88</th>\n",
       "      <td>Double Down (Diary of a Wimpy Kid #11)</td>\n",
       "      <td>Jeff Kinney</td>\n",
       "      <td>4.8</td>\n",
       "      <td>5118</td>\n",
       "      <td>20</td>\n",
       "      <td>2016</td>\n",
       "      <td>Fiction</td>\n",
       "    </tr>\n",
       "    <tr>\n",
       "      <th>381</th>\n",
       "      <td>The Getaway</td>\n",
       "      <td>Jeff Kinney</td>\n",
       "      <td>4.8</td>\n",
       "      <td>5836</td>\n",
       "      <td>0</td>\n",
       "      <td>2017</td>\n",
       "      <td>Fiction</td>\n",
       "    </tr>\n",
       "    <tr>\n",
       "      <th>435</th>\n",
       "      <td>The Meltdown (Diary of a Wimpy Kid Book 13)</td>\n",
       "      <td>Jeff Kinney</td>\n",
       "      <td>4.8</td>\n",
       "      <td>5898</td>\n",
       "      <td>8</td>\n",
       "      <td>2018</td>\n",
       "      <td>Fiction</td>\n",
       "    </tr>\n",
       "    <tr>\n",
       "      <th>545</th>\n",
       "      <td>Wrecking Ball (Diary of a Wimpy Kid Book 14)</td>\n",
       "      <td>Jeff Kinney</td>\n",
       "      <td>4.9</td>\n",
       "      <td>9413</td>\n",
       "      <td>8</td>\n",
       "      <td>2019</td>\n",
       "      <td>Fiction</td>\n",
       "    </tr>\n",
       "  </tbody>\n",
       "</table>\n",
       "</div>"
      ],
      "text/plain": [
       "                                                  Name       Author  \\\n",
       "72       Diary of a Wimpy Kid: The Last Straw (Book 3)  Jeff Kinney   \n",
       "80   Dog Days (Diary of a Wimpy Kid, Book 4) (Volum...  Jeff Kinney   \n",
       "474      The Ugly Truth (Diary of a Wimpy Kid, Book 5)  Jeff Kinney   \n",
       "42          Cabin Fever (Diary of a Wimpy Kid, Book 6)  Jeff Kinney   \n",
       "468     The Third Wheel (Diary of a Wimpy Kid, Book 7)  Jeff Kinney   \n",
       "71             Diary of a Wimpy Kid: Hard Luck, Book 8  Jeff Kinney   \n",
       "73                 Diary of a Wimpy Kid: The Long Haul  Jeff Kinney   \n",
       "253              Old School (Diary of a Wimpy Kid #10)  Jeff Kinney   \n",
       "88              Double Down (Diary of a Wimpy Kid #11)  Jeff Kinney   \n",
       "381                                        The Getaway  Jeff Kinney   \n",
       "435        The Meltdown (Diary of a Wimpy Kid Book 13)  Jeff Kinney   \n",
       "545       Wrecking Ball (Diary of a Wimpy Kid Book 14)  Jeff Kinney   \n",
       "\n",
       "     User Rating  Reviews  Price  Year    Genre  \n",
       "72           4.8     3837     15  2009  Fiction  \n",
       "80           4.8     3181     12  2009  Fiction  \n",
       "474          4.8     3796     12  2010  Fiction  \n",
       "42           4.8     4505      0  2011  Fiction  \n",
       "468          4.7     6377      7  2012  Fiction  \n",
       "71           4.8     6812      0  2013  Fiction  \n",
       "73           4.8     6540     22  2014  Fiction  \n",
       "253          4.8     6169      7  2015  Fiction  \n",
       "88           4.8     5118     20  2016  Fiction  \n",
       "381          4.8     5836      0  2017  Fiction  \n",
       "435          4.8     5898      8  2018  Fiction  \n",
       "545          4.9     9413      8  2019  Fiction  "
      ]
     },
     "execution_count": 14,
     "metadata": {},
     "output_type": "execute_result"
    }
   ],
   "source": [
    "df[df[\"Author\"]==df[\"Author\"].value_counts().idxmax()].sort_values(\"Year\")"
   ]
  },
  {
   "cell_type": "markdown",
   "id": "60d7539d",
   "metadata": {},
   "source": [
    "# Representation all Books of 2013"
   ]
  },
  {
   "cell_type": "code",
   "execution_count": 15,
   "id": "35a54e48",
   "metadata": {},
   "outputs": [
    {
     "data": {
      "text/html": [
       "<div>\n",
       "<style scoped>\n",
       "    .dataframe tbody tr th:only-of-type {\n",
       "        vertical-align: middle;\n",
       "    }\n",
       "\n",
       "    .dataframe tbody tr th {\n",
       "        vertical-align: top;\n",
       "    }\n",
       "\n",
       "    .dataframe thead th {\n",
       "        text-align: right;\n",
       "    }\n",
       "</style>\n",
       "<table border=\"1\" class=\"dataframe\">\n",
       "  <thead>\n",
       "    <tr style=\"text-align: right;\">\n",
       "      <th></th>\n",
       "      <th>Name</th>\n",
       "      <th>Author</th>\n",
       "      <th>User Rating</th>\n",
       "      <th>Reviews</th>\n",
       "      <th>Price</th>\n",
       "      <th>Year</th>\n",
       "      <th>Genre</th>\n",
       "    </tr>\n",
       "  </thead>\n",
       "  <tbody>\n",
       "    <tr>\n",
       "      <th>22</th>\n",
       "      <td>Allegiant</td>\n",
       "      <td>Veronica Roth</td>\n",
       "      <td>3.9</td>\n",
       "      <td>6310</td>\n",
       "      <td>13</td>\n",
       "      <td>2013</td>\n",
       "      <td>Fiction</td>\n",
       "    </tr>\n",
       "    <tr>\n",
       "      <th>24</th>\n",
       "      <td>And the Mountains Echoed</td>\n",
       "      <td>Khaled Hosseini</td>\n",
       "      <td>4.3</td>\n",
       "      <td>12159</td>\n",
       "      <td>13</td>\n",
       "      <td>2013</td>\n",
       "      <td>Fiction</td>\n",
       "    </tr>\n",
       "    <tr>\n",
       "      <th>58</th>\n",
       "      <td>Daring Greatly: How the Courage to Be Vulnerab...</td>\n",
       "      <td>Brené Brown</td>\n",
       "      <td>4.8</td>\n",
       "      <td>1329</td>\n",
       "      <td>10</td>\n",
       "      <td>2013</td>\n",
       "      <td>Non Fiction</td>\n",
       "    </tr>\n",
       "    <tr>\n",
       "      <th>59</th>\n",
       "      <td>David and Goliath: Underdogs, Misfits, and the...</td>\n",
       "      <td>Malcolm Gladwell</td>\n",
       "      <td>4.4</td>\n",
       "      <td>4642</td>\n",
       "      <td>13</td>\n",
       "      <td>2013</td>\n",
       "      <td>Non Fiction</td>\n",
       "    </tr>\n",
       "    <tr>\n",
       "      <th>69</th>\n",
       "      <td>Diagnostic and Statistical Manual of Mental Di...</td>\n",
       "      <td>American Psychiatric Association</td>\n",
       "      <td>4.5</td>\n",
       "      <td>6679</td>\n",
       "      <td>105</td>\n",
       "      <td>2013</td>\n",
       "      <td>Non Fiction</td>\n",
       "    </tr>\n",
       "    <tr>\n",
       "      <th>71</th>\n",
       "      <td>Diary of a Wimpy Kid: Hard Luck, Book 8</td>\n",
       "      <td>Jeff Kinney</td>\n",
       "      <td>4.8</td>\n",
       "      <td>6812</td>\n",
       "      <td>0</td>\n",
       "      <td>2013</td>\n",
       "      <td>Fiction</td>\n",
       "    </tr>\n",
       "    <tr>\n",
       "      <th>75</th>\n",
       "      <td>Divergent</td>\n",
       "      <td>Veronica Roth</td>\n",
       "      <td>4.6</td>\n",
       "      <td>27098</td>\n",
       "      <td>15</td>\n",
       "      <td>2013</td>\n",
       "      <td>Fiction</td>\n",
       "    </tr>\n",
       "    <tr>\n",
       "      <th>79</th>\n",
       "      <td>Doctor Sleep: A Novel</td>\n",
       "      <td>Stephen King</td>\n",
       "      <td>4.7</td>\n",
       "      <td>15845</td>\n",
       "      <td>13</td>\n",
       "      <td>2013</td>\n",
       "      <td>Fiction</td>\n",
       "    </tr>\n",
       "    <tr>\n",
       "      <th>107</th>\n",
       "      <td>Fifty Shades of Grey: Book One of the Fifty Sh...</td>\n",
       "      <td>E L James</td>\n",
       "      <td>3.8</td>\n",
       "      <td>47265</td>\n",
       "      <td>14</td>\n",
       "      <td>2013</td>\n",
       "      <td>Fiction</td>\n",
       "    </tr>\n",
       "    <tr>\n",
       "      <th>120</th>\n",
       "      <td>Game of Thrones Boxed Set: A Game of Thrones/A...</td>\n",
       "      <td>George R.R. Martin</td>\n",
       "      <td>4.6</td>\n",
       "      <td>5594</td>\n",
       "      <td>5</td>\n",
       "      <td>2013</td>\n",
       "      <td>Fiction</td>\n",
       "    </tr>\n",
       "    <tr>\n",
       "      <th>122</th>\n",
       "      <td>George Washington's Secret Six: The Spy Ring T...</td>\n",
       "      <td>Brian Kilmeade</td>\n",
       "      <td>4.6</td>\n",
       "      <td>4799</td>\n",
       "      <td>16</td>\n",
       "      <td>2013</td>\n",
       "      <td>Non Fiction</td>\n",
       "    </tr>\n",
       "    <tr>\n",
       "      <th>136</th>\n",
       "      <td>Gone Girl</td>\n",
       "      <td>Gillian Flynn</td>\n",
       "      <td>4.0</td>\n",
       "      <td>57271</td>\n",
       "      <td>10</td>\n",
       "      <td>2013</td>\n",
       "      <td>Fiction</td>\n",
       "    </tr>\n",
       "    <tr>\n",
       "      <th>147</th>\n",
       "      <td>Goodnight, Goodnight Construction Site (Hardco...</td>\n",
       "      <td>Sherri Duskey Rinker</td>\n",
       "      <td>4.9</td>\n",
       "      <td>7038</td>\n",
       "      <td>7</td>\n",
       "      <td>2013</td>\n",
       "      <td>Fiction</td>\n",
       "    </tr>\n",
       "    <tr>\n",
       "      <th>152</th>\n",
       "      <td>Happy, Happy, Happy: My Life and Legacy as the...</td>\n",
       "      <td>Phil Robertson</td>\n",
       "      <td>4.8</td>\n",
       "      <td>4148</td>\n",
       "      <td>11</td>\n",
       "      <td>2013</td>\n",
       "      <td>Non Fiction</td>\n",
       "    </tr>\n",
       "    <tr>\n",
       "      <th>172</th>\n",
       "      <td>Humans of New York</td>\n",
       "      <td>Brandon Stanton</td>\n",
       "      <td>4.8</td>\n",
       "      <td>3490</td>\n",
       "      <td>15</td>\n",
       "      <td>2013</td>\n",
       "      <td>Non Fiction</td>\n",
       "    </tr>\n",
       "    <tr>\n",
       "      <th>175</th>\n",
       "      <td>Hyperbole and a Half: Unfortunate Situations, ...</td>\n",
       "      <td>Allie Brosh</td>\n",
       "      <td>4.7</td>\n",
       "      <td>4896</td>\n",
       "      <td>17</td>\n",
       "      <td>2013</td>\n",
       "      <td>Non Fiction</td>\n",
       "    </tr>\n",
       "    <tr>\n",
       "      <th>182</th>\n",
       "      <td>Inferno</td>\n",
       "      <td>Dan Brown</td>\n",
       "      <td>4.1</td>\n",
       "      <td>29651</td>\n",
       "      <td>14</td>\n",
       "      <td>2013</td>\n",
       "      <td>Fiction</td>\n",
       "    </tr>\n",
       "    <tr>\n",
       "      <th>189</th>\n",
       "      <td>Jesus Calling: Enjoying Peace in His Presence ...</td>\n",
       "      <td>Sarah Young</td>\n",
       "      <td>4.9</td>\n",
       "      <td>19576</td>\n",
       "      <td>8</td>\n",
       "      <td>2013</td>\n",
       "      <td>Non Fiction</td>\n",
       "    </tr>\n",
       "    <tr>\n",
       "      <th>194</th>\n",
       "      <td>Joyland (Hard Case Crime)</td>\n",
       "      <td>Stephen King</td>\n",
       "      <td>4.5</td>\n",
       "      <td>4748</td>\n",
       "      <td>12</td>\n",
       "      <td>2013</td>\n",
       "      <td>Fiction</td>\n",
       "    </tr>\n",
       "    <tr>\n",
       "      <th>196</th>\n",
       "      <td>Killing Jesus (Bill O'Reilly's Killing Series)</td>\n",
       "      <td>Bill O'Reilly</td>\n",
       "      <td>4.5</td>\n",
       "      <td>11391</td>\n",
       "      <td>12</td>\n",
       "      <td>2013</td>\n",
       "      <td>Non Fiction</td>\n",
       "    </tr>\n",
       "    <tr>\n",
       "      <th>204</th>\n",
       "      <td>Knock-Knock Jokes for Kids</td>\n",
       "      <td>Rob Elliott</td>\n",
       "      <td>4.5</td>\n",
       "      <td>3673</td>\n",
       "      <td>4</td>\n",
       "      <td>2013</td>\n",
       "      <td>Non Fiction</td>\n",
       "    </tr>\n",
       "    <tr>\n",
       "      <th>208</th>\n",
       "      <td>Laugh-Out-Loud Jokes for Kids</td>\n",
       "      <td>Rob Elliott</td>\n",
       "      <td>4.6</td>\n",
       "      <td>6990</td>\n",
       "      <td>4</td>\n",
       "      <td>2013</td>\n",
       "      <td>Non Fiction</td>\n",
       "    </tr>\n",
       "    <tr>\n",
       "      <th>213</th>\n",
       "      <td>Lean In: Women, Work, and the Will to Lead</td>\n",
       "      <td>Sheryl Sandberg</td>\n",
       "      <td>4.5</td>\n",
       "      <td>6132</td>\n",
       "      <td>13</td>\n",
       "      <td>2013</td>\n",
       "      <td>Non Fiction</td>\n",
       "    </tr>\n",
       "    <tr>\n",
       "      <th>246</th>\n",
       "      <td>Oh, the Places You'll Go!</td>\n",
       "      <td>Dr. Seuss</td>\n",
       "      <td>4.9</td>\n",
       "      <td>21834</td>\n",
       "      <td>8</td>\n",
       "      <td>2013</td>\n",
       "      <td>Fiction</td>\n",
       "    </tr>\n",
       "    <tr>\n",
       "      <th>270</th>\n",
       "      <td>Proof of Heaven: A Neurosurgeon's Journey into...</td>\n",
       "      <td>Eben Alexander</td>\n",
       "      <td>4.3</td>\n",
       "      <td>13616</td>\n",
       "      <td>10</td>\n",
       "      <td>2013</td>\n",
       "      <td>Non Fiction</td>\n",
       "    </tr>\n",
       "    <tr>\n",
       "      <th>275</th>\n",
       "      <td>Publication Manual of the American Psychologic...</td>\n",
       "      <td>American Psychological Association</td>\n",
       "      <td>4.5</td>\n",
       "      <td>8580</td>\n",
       "      <td>46</td>\n",
       "      <td>2013</td>\n",
       "      <td>Non Fiction</td>\n",
       "    </tr>\n",
       "    <tr>\n",
       "      <th>283</th>\n",
       "      <td>Quiet: The Power of Introverts in a World That...</td>\n",
       "      <td>Susan Cain</td>\n",
       "      <td>4.6</td>\n",
       "      <td>10009</td>\n",
       "      <td>7</td>\n",
       "      <td>2013</td>\n",
       "      <td>Non Fiction</td>\n",
       "    </tr>\n",
       "    <tr>\n",
       "      <th>288</th>\n",
       "      <td>Rush Revere and the Brave Pilgrims: Time-Trave...</td>\n",
       "      <td>Rush Limbaugh</td>\n",
       "      <td>4.9</td>\n",
       "      <td>7150</td>\n",
       "      <td>12</td>\n",
       "      <td>2013</td>\n",
       "      <td>Fiction</td>\n",
       "    </tr>\n",
       "    <tr>\n",
       "      <th>298</th>\n",
       "      <td>Shred: The Revolutionary Diet: 6 Weeks 4 Inche...</td>\n",
       "      <td>Ian K. Smith M.D.</td>\n",
       "      <td>4.1</td>\n",
       "      <td>2272</td>\n",
       "      <td>6</td>\n",
       "      <td>2013</td>\n",
       "      <td>Non Fiction</td>\n",
       "    </tr>\n",
       "    <tr>\n",
       "      <th>300</th>\n",
       "      <td>Soul Healing Miracles: Ancient and New Sacred ...</td>\n",
       "      <td>Zhi Gang Sha</td>\n",
       "      <td>4.6</td>\n",
       "      <td>220</td>\n",
       "      <td>17</td>\n",
       "      <td>2013</td>\n",
       "      <td>Non Fiction</td>\n",
       "    </tr>\n",
       "    <tr>\n",
       "      <th>308</th>\n",
       "      <td>StrengthsFinder 2.0</td>\n",
       "      <td>Gallup</td>\n",
       "      <td>4.0</td>\n",
       "      <td>5069</td>\n",
       "      <td>17</td>\n",
       "      <td>2013</td>\n",
       "      <td>Non Fiction</td>\n",
       "    </tr>\n",
       "    <tr>\n",
       "      <th>315</th>\n",
       "      <td>Sycamore Row (Jake Brigance)</td>\n",
       "      <td>John Grisham</td>\n",
       "      <td>4.5</td>\n",
       "      <td>23114</td>\n",
       "      <td>18</td>\n",
       "      <td>2013</td>\n",
       "      <td>Fiction</td>\n",
       "    </tr>\n",
       "    <tr>\n",
       "      <th>323</th>\n",
       "      <td>The 5 Love Languages: The Secret to Love That ...</td>\n",
       "      <td>Gary Chapman</td>\n",
       "      <td>4.7</td>\n",
       "      <td>3477</td>\n",
       "      <td>28</td>\n",
       "      <td>2013</td>\n",
       "      <td>Non Fiction</td>\n",
       "    </tr>\n",
       "    <tr>\n",
       "      <th>334</th>\n",
       "      <td>The 7 Habits of Highly Effective People: Power...</td>\n",
       "      <td>Stephen R. Covey</td>\n",
       "      <td>4.6</td>\n",
       "      <td>9325</td>\n",
       "      <td>24</td>\n",
       "      <td>2013</td>\n",
       "      <td>Non Fiction</td>\n",
       "    </tr>\n",
       "    <tr>\n",
       "      <th>347</th>\n",
       "      <td>The Book Thief</td>\n",
       "      <td>Markus Zusak</td>\n",
       "      <td>4.6</td>\n",
       "      <td>23148</td>\n",
       "      <td>6</td>\n",
       "      <td>2013</td>\n",
       "      <td>Fiction</td>\n",
       "    </tr>\n",
       "    <tr>\n",
       "      <th>360</th>\n",
       "      <td>The Day the Crayons Quit</td>\n",
       "      <td>Drew Daywalt</td>\n",
       "      <td>4.8</td>\n",
       "      <td>8922</td>\n",
       "      <td>9</td>\n",
       "      <td>2013</td>\n",
       "      <td>Fiction</td>\n",
       "    </tr>\n",
       "    <tr>\n",
       "      <th>366</th>\n",
       "      <td>The Fault in Our Stars</td>\n",
       "      <td>John Green</td>\n",
       "      <td>4.7</td>\n",
       "      <td>50482</td>\n",
       "      <td>13</td>\n",
       "      <td>2013</td>\n",
       "      <td>Fiction</td>\n",
       "    </tr>\n",
       "    <tr>\n",
       "      <th>373</th>\n",
       "      <td>The Five Dysfunctions of a Team: A Leadership ...</td>\n",
       "      <td>Patrick Lencioni</td>\n",
       "      <td>4.6</td>\n",
       "      <td>3207</td>\n",
       "      <td>6</td>\n",
       "      <td>2013</td>\n",
       "      <td>Non Fiction</td>\n",
       "    </tr>\n",
       "    <tr>\n",
       "      <th>375</th>\n",
       "      <td>The Four Agreements: A Practical Guide to Pers...</td>\n",
       "      <td>Don Miguel Ruiz</td>\n",
       "      <td>4.7</td>\n",
       "      <td>23308</td>\n",
       "      <td>6</td>\n",
       "      <td>2013</td>\n",
       "      <td>Non Fiction</td>\n",
       "    </tr>\n",
       "    <tr>\n",
       "      <th>392</th>\n",
       "      <td>The Goldfinch: A Novel (Pulitzer Prize for Fic...</td>\n",
       "      <td>Donna Tartt</td>\n",
       "      <td>3.9</td>\n",
       "      <td>33844</td>\n",
       "      <td>20</td>\n",
       "      <td>2013</td>\n",
       "      <td>Fiction</td>\n",
       "    </tr>\n",
       "    <tr>\n",
       "      <th>395</th>\n",
       "      <td>The Great Gatsby</td>\n",
       "      <td>F. Scott Fitzgerald</td>\n",
       "      <td>4.4</td>\n",
       "      <td>11616</td>\n",
       "      <td>7</td>\n",
       "      <td>2013</td>\n",
       "      <td>Fiction</td>\n",
       "    </tr>\n",
       "    <tr>\n",
       "      <th>406</th>\n",
       "      <td>The House of Hades (Heroes of Olympus, Book 4)</td>\n",
       "      <td>Rick Riordan</td>\n",
       "      <td>4.8</td>\n",
       "      <td>6982</td>\n",
       "      <td>14</td>\n",
       "      <td>2013</td>\n",
       "      <td>Fiction</td>\n",
       "    </tr>\n",
       "    <tr>\n",
       "      <th>420</th>\n",
       "      <td>The Legend of Zelda: Hyrule Historia</td>\n",
       "      <td>Patrick Thorpe</td>\n",
       "      <td>4.9</td>\n",
       "      <td>5396</td>\n",
       "      <td>20</td>\n",
       "      <td>2013</td>\n",
       "      <td>Fiction</td>\n",
       "    </tr>\n",
       "    <tr>\n",
       "      <th>442</th>\n",
       "      <td>The Official SAT Study Guide</td>\n",
       "      <td>The College Board</td>\n",
       "      <td>4.4</td>\n",
       "      <td>1201</td>\n",
       "      <td>40</td>\n",
       "      <td>2013</td>\n",
       "      <td>Non Fiction</td>\n",
       "    </tr>\n",
       "    <tr>\n",
       "      <th>446</th>\n",
       "      <td>The Pioneer Woman Cooks: A Year of Holidays: 1...</td>\n",
       "      <td>Ree Drummond</td>\n",
       "      <td>4.8</td>\n",
       "      <td>2663</td>\n",
       "      <td>17</td>\n",
       "      <td>2013</td>\n",
       "      <td>Non Fiction</td>\n",
       "    </tr>\n",
       "    <tr>\n",
       "      <th>476</th>\n",
       "      <td>The Very Hungry Caterpillar</td>\n",
       "      <td>Eric Carle</td>\n",
       "      <td>4.9</td>\n",
       "      <td>19546</td>\n",
       "      <td>5</td>\n",
       "      <td>2013</td>\n",
       "      <td>Fiction</td>\n",
       "    </tr>\n",
       "    <tr>\n",
       "      <th>493</th>\n",
       "      <td>Things That Matter: Three Decades of Passions,...</td>\n",
       "      <td>Charles Krauthammer</td>\n",
       "      <td>4.7</td>\n",
       "      <td>7034</td>\n",
       "      <td>15</td>\n",
       "      <td>2013</td>\n",
       "      <td>Non Fiction</td>\n",
       "    </tr>\n",
       "    <tr>\n",
       "      <th>505</th>\n",
       "      <td>To Kill a Mockingbird</td>\n",
       "      <td>Harper Lee</td>\n",
       "      <td>4.8</td>\n",
       "      <td>26234</td>\n",
       "      <td>0</td>\n",
       "      <td>2013</td>\n",
       "      <td>Fiction</td>\n",
       "    </tr>\n",
       "    <tr>\n",
       "      <th>532</th>\n",
       "      <td>Wheat Belly: Lose the Wheat, Lose the Weight, ...</td>\n",
       "      <td>William Davis</td>\n",
       "      <td>4.4</td>\n",
       "      <td>7497</td>\n",
       "      <td>6</td>\n",
       "      <td>2013</td>\n",
       "      <td>Non Fiction</td>\n",
       "    </tr>\n",
       "    <tr>\n",
       "      <th>540</th>\n",
       "      <td>Wonder</td>\n",
       "      <td>R. J. Palacio</td>\n",
       "      <td>4.8</td>\n",
       "      <td>21625</td>\n",
       "      <td>9</td>\n",
       "      <td>2013</td>\n",
       "      <td>Fiction</td>\n",
       "    </tr>\n",
       "  </tbody>\n",
       "</table>\n",
       "</div>"
      ],
      "text/plain": [
       "                                                  Name  \\\n",
       "22                                           Allegiant   \n",
       "24                            And the Mountains Echoed   \n",
       "58   Daring Greatly: How the Courage to Be Vulnerab...   \n",
       "59   David and Goliath: Underdogs, Misfits, and the...   \n",
       "69   Diagnostic and Statistical Manual of Mental Di...   \n",
       "71             Diary of a Wimpy Kid: Hard Luck, Book 8   \n",
       "75                                           Divergent   \n",
       "79                               Doctor Sleep: A Novel   \n",
       "107  Fifty Shades of Grey: Book One of the Fifty Sh...   \n",
       "120  Game of Thrones Boxed Set: A Game of Thrones/A...   \n",
       "122  George Washington's Secret Six: The Spy Ring T...   \n",
       "136                                          Gone Girl   \n",
       "147  Goodnight, Goodnight Construction Site (Hardco...   \n",
       "152  Happy, Happy, Happy: My Life and Legacy as the...   \n",
       "172                                 Humans of New York   \n",
       "175  Hyperbole and a Half: Unfortunate Situations, ...   \n",
       "182                                            Inferno   \n",
       "189  Jesus Calling: Enjoying Peace in His Presence ...   \n",
       "194                          Joyland (Hard Case Crime)   \n",
       "196     Killing Jesus (Bill O'Reilly's Killing Series)   \n",
       "204                         Knock-Knock Jokes for Kids   \n",
       "208                      Laugh-Out-Loud Jokes for Kids   \n",
       "213         Lean In: Women, Work, and the Will to Lead   \n",
       "246                          Oh, the Places You'll Go!   \n",
       "270  Proof of Heaven: A Neurosurgeon's Journey into...   \n",
       "275  Publication Manual of the American Psychologic...   \n",
       "283  Quiet: The Power of Introverts in a World That...   \n",
       "288  Rush Revere and the Brave Pilgrims: Time-Trave...   \n",
       "298  Shred: The Revolutionary Diet: 6 Weeks 4 Inche...   \n",
       "300  Soul Healing Miracles: Ancient and New Sacred ...   \n",
       "308                                StrengthsFinder 2.0   \n",
       "315                       Sycamore Row (Jake Brigance)   \n",
       "323  The 5 Love Languages: The Secret to Love That ...   \n",
       "334  The 7 Habits of Highly Effective People: Power...   \n",
       "347                                     The Book Thief   \n",
       "360                           The Day the Crayons Quit   \n",
       "366                             The Fault in Our Stars   \n",
       "373  The Five Dysfunctions of a Team: A Leadership ...   \n",
       "375  The Four Agreements: A Practical Guide to Pers...   \n",
       "392  The Goldfinch: A Novel (Pulitzer Prize for Fic...   \n",
       "395                                   The Great Gatsby   \n",
       "406     The House of Hades (Heroes of Olympus, Book 4)   \n",
       "420               The Legend of Zelda: Hyrule Historia   \n",
       "442                       The Official SAT Study Guide   \n",
       "446  The Pioneer Woman Cooks: A Year of Holidays: 1...   \n",
       "476                        The Very Hungry Caterpillar   \n",
       "493  Things That Matter: Three Decades of Passions,...   \n",
       "505                              To Kill a Mockingbird   \n",
       "532  Wheat Belly: Lose the Wheat, Lose the Weight, ...   \n",
       "540                                             Wonder   \n",
       "\n",
       "                                 Author  User Rating  Reviews  Price  Year  \\\n",
       "22                        Veronica Roth          3.9     6310     13  2013   \n",
       "24                      Khaled Hosseini          4.3    12159     13  2013   \n",
       "58                         Brené Brown          4.8     1329     10  2013   \n",
       "59                     Malcolm Gladwell          4.4     4642     13  2013   \n",
       "69     American Psychiatric Association          4.5     6679    105  2013   \n",
       "71                          Jeff Kinney          4.8     6812      0  2013   \n",
       "75                        Veronica Roth          4.6    27098     15  2013   \n",
       "79                         Stephen King          4.7    15845     13  2013   \n",
       "107                           E L James          3.8    47265     14  2013   \n",
       "120                  George R.R. Martin          4.6     5594      5  2013   \n",
       "122                      Brian Kilmeade          4.6     4799     16  2013   \n",
       "136                       Gillian Flynn          4.0    57271     10  2013   \n",
       "147                Sherri Duskey Rinker          4.9     7038      7  2013   \n",
       "152                      Phil Robertson          4.8     4148     11  2013   \n",
       "172                     Brandon Stanton          4.8     3490     15  2013   \n",
       "175                         Allie Brosh          4.7     4896     17  2013   \n",
       "182                           Dan Brown          4.1    29651     14  2013   \n",
       "189                         Sarah Young          4.9    19576      8  2013   \n",
       "194                        Stephen King          4.5     4748     12  2013   \n",
       "196                       Bill O'Reilly          4.5    11391     12  2013   \n",
       "204                         Rob Elliott          4.5     3673      4  2013   \n",
       "208                         Rob Elliott          4.6     6990      4  2013   \n",
       "213                     Sheryl Sandberg          4.5     6132     13  2013   \n",
       "246                           Dr. Seuss          4.9    21834      8  2013   \n",
       "270                      Eben Alexander          4.3    13616     10  2013   \n",
       "275  American Psychological Association          4.5     8580     46  2013   \n",
       "283                          Susan Cain          4.6    10009      7  2013   \n",
       "288                       Rush Limbaugh          4.9     7150     12  2013   \n",
       "298                   Ian K. Smith M.D.          4.1     2272      6  2013   \n",
       "300                        Zhi Gang Sha          4.6      220     17  2013   \n",
       "308                              Gallup          4.0     5069     17  2013   \n",
       "315                        John Grisham          4.5    23114     18  2013   \n",
       "323                        Gary Chapman          4.7     3477     28  2013   \n",
       "334                    Stephen R. Covey          4.6     9325     24  2013   \n",
       "347                        Markus Zusak          4.6    23148      6  2013   \n",
       "360                        Drew Daywalt          4.8     8922      9  2013   \n",
       "366                          John Green          4.7    50482     13  2013   \n",
       "373                    Patrick Lencioni          4.6     3207      6  2013   \n",
       "375                     Don Miguel Ruiz          4.7    23308      6  2013   \n",
       "392                         Donna Tartt          3.9    33844     20  2013   \n",
       "395                 F. Scott Fitzgerald          4.4    11616      7  2013   \n",
       "406                        Rick Riordan          4.8     6982     14  2013   \n",
       "420                      Patrick Thorpe          4.9     5396     20  2013   \n",
       "442                   The College Board          4.4     1201     40  2013   \n",
       "446                        Ree Drummond          4.8     2663     17  2013   \n",
       "476                          Eric Carle          4.9    19546      5  2013   \n",
       "493                 Charles Krauthammer          4.7     7034     15  2013   \n",
       "505                          Harper Lee          4.8    26234      0  2013   \n",
       "532                       William Davis          4.4     7497      6  2013   \n",
       "540                       R. J. Palacio          4.8    21625      9  2013   \n",
       "\n",
       "           Genre  \n",
       "22       Fiction  \n",
       "24       Fiction  \n",
       "58   Non Fiction  \n",
       "59   Non Fiction  \n",
       "69   Non Fiction  \n",
       "71       Fiction  \n",
       "75       Fiction  \n",
       "79       Fiction  \n",
       "107      Fiction  \n",
       "120      Fiction  \n",
       "122  Non Fiction  \n",
       "136      Fiction  \n",
       "147      Fiction  \n",
       "152  Non Fiction  \n",
       "172  Non Fiction  \n",
       "175  Non Fiction  \n",
       "182      Fiction  \n",
       "189  Non Fiction  \n",
       "194      Fiction  \n",
       "196  Non Fiction  \n",
       "204  Non Fiction  \n",
       "208  Non Fiction  \n",
       "213  Non Fiction  \n",
       "246      Fiction  \n",
       "270  Non Fiction  \n",
       "275  Non Fiction  \n",
       "283  Non Fiction  \n",
       "288      Fiction  \n",
       "298  Non Fiction  \n",
       "300  Non Fiction  \n",
       "308  Non Fiction  \n",
       "315      Fiction  \n",
       "323  Non Fiction  \n",
       "334  Non Fiction  \n",
       "347      Fiction  \n",
       "360      Fiction  \n",
       "366      Fiction  \n",
       "373  Non Fiction  \n",
       "375  Non Fiction  \n",
       "392      Fiction  \n",
       "395      Fiction  \n",
       "406      Fiction  \n",
       "420      Fiction  \n",
       "442  Non Fiction  \n",
       "446  Non Fiction  \n",
       "476      Fiction  \n",
       "493  Non Fiction  \n",
       "505      Fiction  \n",
       "532  Non Fiction  \n",
       "540      Fiction  "
      ]
     },
     "execution_count": 15,
     "metadata": {},
     "output_type": "execute_result"
    }
   ],
   "source": [
    "df[(df[\"Year\"]==2013)]"
   ]
  },
  {
   "cell_type": "markdown",
   "id": "c197b012",
   "metadata": {},
   "source": [
    "# Highest Price of  a Book"
   ]
  },
  {
   "cell_type": "code",
   "execution_count": 16,
   "id": "efe3829c",
   "metadata": {},
   "outputs": [
    {
     "data": {
      "text/plain": [
       "105"
      ]
     },
     "execution_count": 16,
     "metadata": {},
     "output_type": "execute_result"
    }
   ],
   "source": [
    "df[\"Price\"].max()"
   ]
  },
  {
   "cell_type": "markdown",
   "id": "1b991c31",
   "metadata": {},
   "source": [
    "# List of  All Books Whose Price is Highest"
   ]
  },
  {
   "cell_type": "code",
   "execution_count": 17,
   "id": "aead7574",
   "metadata": {},
   "outputs": [
    {
     "data": {
      "text/html": [
       "<div>\n",
       "<style scoped>\n",
       "    .dataframe tbody tr th:only-of-type {\n",
       "        vertical-align: middle;\n",
       "    }\n",
       "\n",
       "    .dataframe tbody tr th {\n",
       "        vertical-align: top;\n",
       "    }\n",
       "\n",
       "    .dataframe thead th {\n",
       "        text-align: right;\n",
       "    }\n",
       "</style>\n",
       "<table border=\"1\" class=\"dataframe\">\n",
       "  <thead>\n",
       "    <tr style=\"text-align: right;\">\n",
       "      <th></th>\n",
       "      <th>Name</th>\n",
       "      <th>Author</th>\n",
       "      <th>User Rating</th>\n",
       "      <th>Reviews</th>\n",
       "      <th>Price</th>\n",
       "      <th>Year</th>\n",
       "      <th>Genre</th>\n",
       "    </tr>\n",
       "  </thead>\n",
       "  <tbody>\n",
       "    <tr>\n",
       "      <th>69</th>\n",
       "      <td>Diagnostic and Statistical Manual of Mental Di...</td>\n",
       "      <td>American Psychiatric Association</td>\n",
       "      <td>4.5</td>\n",
       "      <td>6679</td>\n",
       "      <td>105</td>\n",
       "      <td>2013</td>\n",
       "      <td>Non Fiction</td>\n",
       "    </tr>\n",
       "    <tr>\n",
       "      <th>70</th>\n",
       "      <td>Diagnostic and Statistical Manual of Mental Di...</td>\n",
       "      <td>American Psychiatric Association</td>\n",
       "      <td>4.5</td>\n",
       "      <td>6679</td>\n",
       "      <td>105</td>\n",
       "      <td>2014</td>\n",
       "      <td>Non Fiction</td>\n",
       "    </tr>\n",
       "  </tbody>\n",
       "</table>\n",
       "</div>"
      ],
      "text/plain": [
       "                                                 Name  \\\n",
       "69  Diagnostic and Statistical Manual of Mental Di...   \n",
       "70  Diagnostic and Statistical Manual of Mental Di...   \n",
       "\n",
       "                              Author  User Rating  Reviews  Price  Year  \\\n",
       "69  American Psychiatric Association          4.5     6679    105  2013   \n",
       "70  American Psychiatric Association          4.5     6679    105  2014   \n",
       "\n",
       "          Genre  \n",
       "69  Non Fiction  \n",
       "70  Non Fiction  "
      ]
     },
     "execution_count": 17,
     "metadata": {},
     "output_type": "execute_result"
    }
   ],
   "source": [
    "df[df[\"Price\"]==df[\"Price\"].max()].sort_values(\"Year\")"
   ]
  },
  {
   "cell_type": "markdown",
   "id": "dab4b500",
   "metadata": {},
   "source": [
    "# Lowest Price of a Book"
   ]
  },
  {
   "cell_type": "code",
   "execution_count": 18,
   "id": "cfa147ac",
   "metadata": {},
   "outputs": [
    {
     "data": {
      "text/plain": [
       "0"
      ]
     },
     "execution_count": 18,
     "metadata": {},
     "output_type": "execute_result"
    }
   ],
   "source": [
    "df[\"Price\"].min()"
   ]
  },
  {
   "cell_type": "markdown",
   "id": "5bb54623",
   "metadata": {},
   "source": [
    "# List of All Books whose Price is Lowest  Year wise"
   ]
  },
  {
   "cell_type": "code",
   "execution_count": 19,
   "id": "2d9137ab",
   "metadata": {},
   "outputs": [
    {
     "data": {
      "text/html": [
       "<div>\n",
       "<style scoped>\n",
       "    .dataframe tbody tr th:only-of-type {\n",
       "        vertical-align: middle;\n",
       "    }\n",
       "\n",
       "    .dataframe tbody tr th {\n",
       "        vertical-align: top;\n",
       "    }\n",
       "\n",
       "    .dataframe thead th {\n",
       "        text-align: right;\n",
       "    }\n",
       "</style>\n",
       "<table border=\"1\" class=\"dataframe\">\n",
       "  <thead>\n",
       "    <tr style=\"text-align: right;\">\n",
       "      <th></th>\n",
       "      <th>Name</th>\n",
       "      <th>Author</th>\n",
       "      <th>User Rating</th>\n",
       "      <th>Reviews</th>\n",
       "      <th>Price</th>\n",
       "      <th>Year</th>\n",
       "      <th>Genre</th>\n",
       "    </tr>\n",
       "  </thead>\n",
       "  <tbody>\n",
       "    <tr>\n",
       "      <th>461</th>\n",
       "      <td>The Short Second Life of Bree Tanner: An Eclip...</td>\n",
       "      <td>Stephenie Meyer</td>\n",
       "      <td>4.6</td>\n",
       "      <td>2122</td>\n",
       "      <td>0</td>\n",
       "      <td>2010</td>\n",
       "      <td>Fiction</td>\n",
       "    </tr>\n",
       "    <tr>\n",
       "      <th>42</th>\n",
       "      <td>Cabin Fever (Diary of a Wimpy Kid, Book 6)</td>\n",
       "      <td>Jeff Kinney</td>\n",
       "      <td>4.8</td>\n",
       "      <td>4505</td>\n",
       "      <td>0</td>\n",
       "      <td>2011</td>\n",
       "      <td>Fiction</td>\n",
       "    </tr>\n",
       "    <tr>\n",
       "      <th>71</th>\n",
       "      <td>Diary of a Wimpy Kid: Hard Luck, Book 8</td>\n",
       "      <td>Jeff Kinney</td>\n",
       "      <td>4.8</td>\n",
       "      <td>6812</td>\n",
       "      <td>0</td>\n",
       "      <td>2013</td>\n",
       "      <td>Fiction</td>\n",
       "    </tr>\n",
       "    <tr>\n",
       "      <th>505</th>\n",
       "      <td>To Kill a Mockingbird</td>\n",
       "      <td>Harper Lee</td>\n",
       "      <td>4.8</td>\n",
       "      <td>26234</td>\n",
       "      <td>0</td>\n",
       "      <td>2013</td>\n",
       "      <td>Fiction</td>\n",
       "    </tr>\n",
       "    <tr>\n",
       "      <th>116</th>\n",
       "      <td>Frozen (Little Golden Book)</td>\n",
       "      <td>RH Disney</td>\n",
       "      <td>4.7</td>\n",
       "      <td>3642</td>\n",
       "      <td>0</td>\n",
       "      <td>2014</td>\n",
       "      <td>Fiction</td>\n",
       "    </tr>\n",
       "    <tr>\n",
       "      <th>193</th>\n",
       "      <td>JOURNEY TO THE ICE P</td>\n",
       "      <td>RH Disney</td>\n",
       "      <td>4.6</td>\n",
       "      <td>978</td>\n",
       "      <td>0</td>\n",
       "      <td>2014</td>\n",
       "      <td>Fiction</td>\n",
       "    </tr>\n",
       "    <tr>\n",
       "      <th>219</th>\n",
       "      <td>Little Blue Truck</td>\n",
       "      <td>Alice Schertle</td>\n",
       "      <td>4.9</td>\n",
       "      <td>1884</td>\n",
       "      <td>0</td>\n",
       "      <td>2014</td>\n",
       "      <td>Fiction</td>\n",
       "    </tr>\n",
       "    <tr>\n",
       "      <th>506</th>\n",
       "      <td>To Kill a Mockingbird</td>\n",
       "      <td>Harper Lee</td>\n",
       "      <td>4.8</td>\n",
       "      <td>26234</td>\n",
       "      <td>0</td>\n",
       "      <td>2014</td>\n",
       "      <td>Fiction</td>\n",
       "    </tr>\n",
       "    <tr>\n",
       "      <th>507</th>\n",
       "      <td>To Kill a Mockingbird</td>\n",
       "      <td>Harper Lee</td>\n",
       "      <td>4.8</td>\n",
       "      <td>26234</td>\n",
       "      <td>0</td>\n",
       "      <td>2015</td>\n",
       "      <td>Fiction</td>\n",
       "    </tr>\n",
       "    <tr>\n",
       "      <th>358</th>\n",
       "      <td>The Constitution of the United States</td>\n",
       "      <td>Delegates of the Constitutional</td>\n",
       "      <td>4.8</td>\n",
       "      <td>2774</td>\n",
       "      <td>0</td>\n",
       "      <td>2016</td>\n",
       "      <td>Non Fiction</td>\n",
       "    </tr>\n",
       "    <tr>\n",
       "      <th>508</th>\n",
       "      <td>To Kill a Mockingbird</td>\n",
       "      <td>Harper Lee</td>\n",
       "      <td>4.8</td>\n",
       "      <td>26234</td>\n",
       "      <td>0</td>\n",
       "      <td>2016</td>\n",
       "      <td>Fiction</td>\n",
       "    </tr>\n",
       "    <tr>\n",
       "      <th>381</th>\n",
       "      <td>The Getaway</td>\n",
       "      <td>Jeff Kinney</td>\n",
       "      <td>4.8</td>\n",
       "      <td>5836</td>\n",
       "      <td>0</td>\n",
       "      <td>2017</td>\n",
       "      <td>Fiction</td>\n",
       "    </tr>\n",
       "  </tbody>\n",
       "</table>\n",
       "</div>"
      ],
      "text/plain": [
       "                                                  Name  \\\n",
       "461  The Short Second Life of Bree Tanner: An Eclip...   \n",
       "42          Cabin Fever (Diary of a Wimpy Kid, Book 6)   \n",
       "71             Diary of a Wimpy Kid: Hard Luck, Book 8   \n",
       "505                              To Kill a Mockingbird   \n",
       "116                        Frozen (Little Golden Book)   \n",
       "193                               JOURNEY TO THE ICE P   \n",
       "219                                  Little Blue Truck   \n",
       "506                              To Kill a Mockingbird   \n",
       "507                              To Kill a Mockingbird   \n",
       "358              The Constitution of the United States   \n",
       "508                              To Kill a Mockingbird   \n",
       "381                                        The Getaway   \n",
       "\n",
       "                               Author  User Rating  Reviews  Price  Year  \\\n",
       "461                   Stephenie Meyer          4.6     2122      0  2010   \n",
       "42                        Jeff Kinney          4.8     4505      0  2011   \n",
       "71                        Jeff Kinney          4.8     6812      0  2013   \n",
       "505                        Harper Lee          4.8    26234      0  2013   \n",
       "116                         RH Disney          4.7     3642      0  2014   \n",
       "193                         RH Disney          4.6      978      0  2014   \n",
       "219                    Alice Schertle          4.9     1884      0  2014   \n",
       "506                        Harper Lee          4.8    26234      0  2014   \n",
       "507                        Harper Lee          4.8    26234      0  2015   \n",
       "358  Delegates of the Constitutional\n",
       "          4.8     2774      0  2016   \n",
       "508                        Harper Lee          4.8    26234      0  2016   \n",
       "381                       Jeff Kinney          4.8     5836      0  2017   \n",
       "\n",
       "           Genre  \n",
       "461      Fiction  \n",
       "42       Fiction  \n",
       "71       Fiction  \n",
       "505      Fiction  \n",
       "116      Fiction  \n",
       "193      Fiction  \n",
       "219      Fiction  \n",
       "506      Fiction  \n",
       "507      Fiction  \n",
       "358  Non Fiction  \n",
       "508      Fiction  \n",
       "381      Fiction  "
      ]
     },
     "execution_count": 19,
     "metadata": {},
     "output_type": "execute_result"
    }
   ],
   "source": [
    "df[df[\"Price\"]==df[\"Price\"].min()].sort_values(\"Year\")"
   ]
  },
  {
   "cell_type": "markdown",
   "id": "44aacece",
   "metadata": {},
   "source": [
    "# Lowest Rating of a Book"
   ]
  },
  {
   "cell_type": "code",
   "execution_count": 20,
   "id": "ae0eee5e",
   "metadata": {},
   "outputs": [
    {
     "data": {
      "text/plain": [
       "3.3"
      ]
     },
     "execution_count": 20,
     "metadata": {},
     "output_type": "execute_result"
    }
   ],
   "source": [
    "df[\"User Rating\"].min()"
   ]
  },
  {
   "cell_type": "markdown",
   "id": "29c1a9b4",
   "metadata": {},
   "source": [
    "# List of All Books Whose User Rating is Lowest"
   ]
  },
  {
   "cell_type": "code",
   "execution_count": 21,
   "id": "13398757",
   "metadata": {},
   "outputs": [
    {
     "data": {
      "text/html": [
       "<div>\n",
       "<style scoped>\n",
       "    .dataframe tbody tr th:only-of-type {\n",
       "        vertical-align: middle;\n",
       "    }\n",
       "\n",
       "    .dataframe tbody tr th {\n",
       "        vertical-align: top;\n",
       "    }\n",
       "\n",
       "    .dataframe thead th {\n",
       "        text-align: right;\n",
       "    }\n",
       "</style>\n",
       "<table border=\"1\" class=\"dataframe\">\n",
       "  <thead>\n",
       "    <tr style=\"text-align: right;\">\n",
       "      <th></th>\n",
       "      <th>Name</th>\n",
       "      <th>Author</th>\n",
       "      <th>User Rating</th>\n",
       "      <th>Reviews</th>\n",
       "      <th>Price</th>\n",
       "      <th>Year</th>\n",
       "      <th>Genre</th>\n",
       "    </tr>\n",
       "  </thead>\n",
       "  <tbody>\n",
       "    <tr>\n",
       "      <th>353</th>\n",
       "      <td>The Casual Vacancy</td>\n",
       "      <td>J.K. Rowling</td>\n",
       "      <td>3.3</td>\n",
       "      <td>9372</td>\n",
       "      <td>12</td>\n",
       "      <td>2012</td>\n",
       "      <td>Fiction</td>\n",
       "    </tr>\n",
       "  </tbody>\n",
       "</table>\n",
       "</div>"
      ],
      "text/plain": [
       "                   Name        Author  User Rating  Reviews  Price  Year  \\\n",
       "353  The Casual Vacancy  J.K. Rowling          3.3     9372     12  2012   \n",
       "\n",
       "       Genre  \n",
       "353  Fiction  "
      ]
     },
     "execution_count": 21,
     "metadata": {},
     "output_type": "execute_result"
    }
   ],
   "source": [
    "df[df[\"User Rating\"]==df[\"User Rating\"].min()]"
   ]
  },
  {
   "cell_type": "markdown",
   "id": "3a14fb7a",
   "metadata": {},
   "source": [
    "# Highest Rating of a Book"
   ]
  },
  {
   "cell_type": "code",
   "execution_count": 22,
   "id": "6ee83a9a",
   "metadata": {},
   "outputs": [
    {
     "data": {
      "text/plain": [
       "4.9"
      ]
     },
     "execution_count": 22,
     "metadata": {},
     "output_type": "execute_result"
    }
   ],
   "source": [
    "df[\"User Rating\"].max()"
   ]
  },
  {
   "cell_type": "markdown",
   "id": "4425426e",
   "metadata": {},
   "source": [
    "# List of All Books Whose User Rating is Highest"
   ]
  },
  {
   "cell_type": "code",
   "execution_count": 23,
   "id": "a0a472e7",
   "metadata": {},
   "outputs": [
    {
     "data": {
      "text/html": [
       "<div>\n",
       "<style scoped>\n",
       "    .dataframe tbody tr th:only-of-type {\n",
       "        vertical-align: middle;\n",
       "    }\n",
       "\n",
       "    .dataframe tbody tr th {\n",
       "        vertical-align: top;\n",
       "    }\n",
       "\n",
       "    .dataframe thead th {\n",
       "        text-align: right;\n",
       "    }\n",
       "</style>\n",
       "<table border=\"1\" class=\"dataframe\">\n",
       "  <thead>\n",
       "    <tr style=\"text-align: right;\">\n",
       "      <th></th>\n",
       "      <th>Name</th>\n",
       "      <th>Author</th>\n",
       "      <th>User Rating</th>\n",
       "      <th>Reviews</th>\n",
       "      <th>Price</th>\n",
       "      <th>Year</th>\n",
       "      <th>Genre</th>\n",
       "    </tr>\n",
       "  </thead>\n",
       "  <tbody>\n",
       "    <tr>\n",
       "      <th>187</th>\n",
       "      <td>Jesus Calling: Enjoying Peace in His Presence ...</td>\n",
       "      <td>Sarah Young</td>\n",
       "      <td>4.9</td>\n",
       "      <td>19576</td>\n",
       "      <td>8</td>\n",
       "      <td>2011</td>\n",
       "      <td>Non Fiction</td>\n",
       "    </tr>\n",
       "    <tr>\n",
       "      <th>188</th>\n",
       "      <td>Jesus Calling: Enjoying Peace in His Presence ...</td>\n",
       "      <td>Sarah Young</td>\n",
       "      <td>4.9</td>\n",
       "      <td>19576</td>\n",
       "      <td>8</td>\n",
       "      <td>2012</td>\n",
       "      <td>Non Fiction</td>\n",
       "    </tr>\n",
       "    <tr>\n",
       "      <th>245</th>\n",
       "      <td>Oh, the Places You'll Go!</td>\n",
       "      <td>Dr. Seuss</td>\n",
       "      <td>4.9</td>\n",
       "      <td>21834</td>\n",
       "      <td>8</td>\n",
       "      <td>2012</td>\n",
       "      <td>Fiction</td>\n",
       "    </tr>\n",
       "    <tr>\n",
       "      <th>146</th>\n",
       "      <td>Goodnight, Goodnight Construction Site (Hardco...</td>\n",
       "      <td>Sherri Duskey Rinker</td>\n",
       "      <td>4.9</td>\n",
       "      <td>7038</td>\n",
       "      <td>7</td>\n",
       "      <td>2012</td>\n",
       "      <td>Fiction</td>\n",
       "    </tr>\n",
       "    <tr>\n",
       "      <th>147</th>\n",
       "      <td>Goodnight, Goodnight Construction Site (Hardco...</td>\n",
       "      <td>Sherri Duskey Rinker</td>\n",
       "      <td>4.9</td>\n",
       "      <td>7038</td>\n",
       "      <td>7</td>\n",
       "      <td>2013</td>\n",
       "      <td>Fiction</td>\n",
       "    </tr>\n",
       "    <tr>\n",
       "      <th>246</th>\n",
       "      <td>Oh, the Places You'll Go!</td>\n",
       "      <td>Dr. Seuss</td>\n",
       "      <td>4.9</td>\n",
       "      <td>21834</td>\n",
       "      <td>8</td>\n",
       "      <td>2013</td>\n",
       "      <td>Fiction</td>\n",
       "    </tr>\n",
       "    <tr>\n",
       "      <th>420</th>\n",
       "      <td>The Legend of Zelda: Hyrule Historia</td>\n",
       "      <td>Patrick Thorpe</td>\n",
       "      <td>4.9</td>\n",
       "      <td>5396</td>\n",
       "      <td>20</td>\n",
       "      <td>2013</td>\n",
       "      <td>Fiction</td>\n",
       "    </tr>\n",
       "    <tr>\n",
       "      <th>476</th>\n",
       "      <td>The Very Hungry Caterpillar</td>\n",
       "      <td>Eric Carle</td>\n",
       "      <td>4.9</td>\n",
       "      <td>19546</td>\n",
       "      <td>5</td>\n",
       "      <td>2013</td>\n",
       "      <td>Fiction</td>\n",
       "    </tr>\n",
       "    <tr>\n",
       "      <th>288</th>\n",
       "      <td>Rush Revere and the Brave Pilgrims: Time-Trave...</td>\n",
       "      <td>Rush Limbaugh</td>\n",
       "      <td>4.9</td>\n",
       "      <td>7150</td>\n",
       "      <td>12</td>\n",
       "      <td>2013</td>\n",
       "      <td>Fiction</td>\n",
       "    </tr>\n",
       "    <tr>\n",
       "      <th>189</th>\n",
       "      <td>Jesus Calling: Enjoying Peace in His Presence ...</td>\n",
       "      <td>Sarah Young</td>\n",
       "      <td>4.9</td>\n",
       "      <td>19576</td>\n",
       "      <td>8</td>\n",
       "      <td>2013</td>\n",
       "      <td>Non Fiction</td>\n",
       "    </tr>\n",
       "    <tr>\n",
       "      <th>289</th>\n",
       "      <td>Rush Revere and the First Patriots: Time-Trave...</td>\n",
       "      <td>Rush Limbaugh</td>\n",
       "      <td>4.9</td>\n",
       "      <td>3836</td>\n",
       "      <td>12</td>\n",
       "      <td>2014</td>\n",
       "      <td>Fiction</td>\n",
       "    </tr>\n",
       "    <tr>\n",
       "      <th>190</th>\n",
       "      <td>Jesus Calling: Enjoying Peace in His Presence ...</td>\n",
       "      <td>Sarah Young</td>\n",
       "      <td>4.9</td>\n",
       "      <td>19576</td>\n",
       "      <td>8</td>\n",
       "      <td>2014</td>\n",
       "      <td>Non Fiction</td>\n",
       "    </tr>\n",
       "    <tr>\n",
       "      <th>477</th>\n",
       "      <td>The Very Hungry Caterpillar</td>\n",
       "      <td>Eric Carle</td>\n",
       "      <td>4.9</td>\n",
       "      <td>19546</td>\n",
       "      <td>5</td>\n",
       "      <td>2014</td>\n",
       "      <td>Fiction</td>\n",
       "    </tr>\n",
       "    <tr>\n",
       "      <th>219</th>\n",
       "      <td>Little Blue Truck</td>\n",
       "      <td>Alice Schertle</td>\n",
       "      <td>4.9</td>\n",
       "      <td>1884</td>\n",
       "      <td>0</td>\n",
       "      <td>2014</td>\n",
       "      <td>Fiction</td>\n",
       "    </tr>\n",
       "    <tr>\n",
       "      <th>247</th>\n",
       "      <td>Oh, the Places You'll Go!</td>\n",
       "      <td>Dr. Seuss</td>\n",
       "      <td>4.9</td>\n",
       "      <td>21834</td>\n",
       "      <td>8</td>\n",
       "      <td>2014</td>\n",
       "      <td>Fiction</td>\n",
       "    </tr>\n",
       "    <tr>\n",
       "      <th>191</th>\n",
       "      <td>Jesus Calling: Enjoying Peace in His Presence ...</td>\n",
       "      <td>Sarah Young</td>\n",
       "      <td>4.9</td>\n",
       "      <td>19576</td>\n",
       "      <td>8</td>\n",
       "      <td>2015</td>\n",
       "      <td>Non Fiction</td>\n",
       "    </tr>\n",
       "    <tr>\n",
       "      <th>478</th>\n",
       "      <td>The Very Hungry Caterpillar</td>\n",
       "      <td>Eric Carle</td>\n",
       "      <td>4.9</td>\n",
       "      <td>19546</td>\n",
       "      <td>5</td>\n",
       "      <td>2015</td>\n",
       "      <td>Fiction</td>\n",
       "    </tr>\n",
       "    <tr>\n",
       "      <th>248</th>\n",
       "      <td>Oh, the Places You'll Go!</td>\n",
       "      <td>Dr. Seuss</td>\n",
       "      <td>4.9</td>\n",
       "      <td>21834</td>\n",
       "      <td>8</td>\n",
       "      <td>2015</td>\n",
       "      <td>Fiction</td>\n",
       "    </tr>\n",
       "    <tr>\n",
       "      <th>174</th>\n",
       "      <td>Humans of New York : Stories</td>\n",
       "      <td>Brandon Stanton</td>\n",
       "      <td>4.9</td>\n",
       "      <td>2812</td>\n",
       "      <td>17</td>\n",
       "      <td>2015</td>\n",
       "      <td>Non Fiction</td>\n",
       "    </tr>\n",
       "    <tr>\n",
       "      <th>192</th>\n",
       "      <td>Jesus Calling: Enjoying Peace in His Presence ...</td>\n",
       "      <td>Sarah Young</td>\n",
       "      <td>4.9</td>\n",
       "      <td>19576</td>\n",
       "      <td>8</td>\n",
       "      <td>2016</td>\n",
       "      <td>Non Fiction</td>\n",
       "    </tr>\n",
       "    <tr>\n",
       "      <th>157</th>\n",
       "      <td>Harry Potter and the Sorcerer's Stone: The Ill...</td>\n",
       "      <td>J.K. Rowling</td>\n",
       "      <td>4.9</td>\n",
       "      <td>10052</td>\n",
       "      <td>22</td>\n",
       "      <td>2016</td>\n",
       "      <td>Fiction</td>\n",
       "    </tr>\n",
       "    <tr>\n",
       "      <th>249</th>\n",
       "      <td>Oh, the Places You'll Go!</td>\n",
       "      <td>Dr. Seuss</td>\n",
       "      <td>4.9</td>\n",
       "      <td>21834</td>\n",
       "      <td>8</td>\n",
       "      <td>2016</td>\n",
       "      <td>Fiction</td>\n",
       "    </tr>\n",
       "    <tr>\n",
       "      <th>151</th>\n",
       "      <td>Hamilton: The Revolution</td>\n",
       "      <td>Lin-Manuel Miranda</td>\n",
       "      <td>4.9</td>\n",
       "      <td>5867</td>\n",
       "      <td>54</td>\n",
       "      <td>2016</td>\n",
       "      <td>Non Fiction</td>\n",
       "    </tr>\n",
       "    <tr>\n",
       "      <th>431</th>\n",
       "      <td>The Magnolia Story</td>\n",
       "      <td>Chip Gaines</td>\n",
       "      <td>4.9</td>\n",
       "      <td>7861</td>\n",
       "      <td>5</td>\n",
       "      <td>2016</td>\n",
       "      <td>Non Fiction</td>\n",
       "    </tr>\n",
       "    <tr>\n",
       "      <th>479</th>\n",
       "      <td>The Very Hungry Caterpillar</td>\n",
       "      <td>Eric Carle</td>\n",
       "      <td>4.9</td>\n",
       "      <td>19546</td>\n",
       "      <td>5</td>\n",
       "      <td>2016</td>\n",
       "      <td>Fiction</td>\n",
       "    </tr>\n",
       "    <tr>\n",
       "      <th>486</th>\n",
       "      <td>The Wonderful Things You Will Be</td>\n",
       "      <td>Emily Winfield Martin</td>\n",
       "      <td>4.9</td>\n",
       "      <td>8842</td>\n",
       "      <td>10</td>\n",
       "      <td>2016</td>\n",
       "      <td>Fiction</td>\n",
       "    </tr>\n",
       "    <tr>\n",
       "      <th>153</th>\n",
       "      <td>Harry Potter and the Chamber of Secrets: The I...</td>\n",
       "      <td>J.K. Rowling</td>\n",
       "      <td>4.9</td>\n",
       "      <td>19622</td>\n",
       "      <td>30</td>\n",
       "      <td>2016</td>\n",
       "      <td>Fiction</td>\n",
       "    </tr>\n",
       "    <tr>\n",
       "      <th>250</th>\n",
       "      <td>Oh, the Places You'll Go!</td>\n",
       "      <td>Dr. Seuss</td>\n",
       "      <td>4.9</td>\n",
       "      <td>21834</td>\n",
       "      <td>8</td>\n",
       "      <td>2017</td>\n",
       "      <td>Fiction</td>\n",
       "    </tr>\n",
       "    <tr>\n",
       "      <th>480</th>\n",
       "      <td>The Very Hungry Caterpillar</td>\n",
       "      <td>Eric Carle</td>\n",
       "      <td>4.9</td>\n",
       "      <td>19546</td>\n",
       "      <td>5</td>\n",
       "      <td>2017</td>\n",
       "      <td>Fiction</td>\n",
       "    </tr>\n",
       "    <tr>\n",
       "      <th>487</th>\n",
       "      <td>The Wonderful Things You Will Be</td>\n",
       "      <td>Emily Winfield Martin</td>\n",
       "      <td>4.9</td>\n",
       "      <td>8842</td>\n",
       "      <td>10</td>\n",
       "      <td>2017</td>\n",
       "      <td>Fiction</td>\n",
       "    </tr>\n",
       "    <tr>\n",
       "      <th>40</th>\n",
       "      <td>Brown Bear, Brown Bear, What Do You See?</td>\n",
       "      <td>Bill Martin Jr.</td>\n",
       "      <td>4.9</td>\n",
       "      <td>14344</td>\n",
       "      <td>5</td>\n",
       "      <td>2017</td>\n",
       "      <td>Fiction</td>\n",
       "    </tr>\n",
       "    <tr>\n",
       "      <th>244</th>\n",
       "      <td>Obama: An Intimate Portrait</td>\n",
       "      <td>Pete Souza</td>\n",
       "      <td>4.9</td>\n",
       "      <td>3192</td>\n",
       "      <td>22</td>\n",
       "      <td>2017</td>\n",
       "      <td>Non Fiction</td>\n",
       "    </tr>\n",
       "    <tr>\n",
       "      <th>156</th>\n",
       "      <td>Harry Potter and the Prisoner of Azkaban: The ...</td>\n",
       "      <td>J.K. Rowling</td>\n",
       "      <td>4.9</td>\n",
       "      <td>3146</td>\n",
       "      <td>30</td>\n",
       "      <td>2017</td>\n",
       "      <td>Fiction</td>\n",
       "    </tr>\n",
       "    <tr>\n",
       "      <th>82</th>\n",
       "      <td>Dog Man: A Tale of Two Kitties: From the Creat...</td>\n",
       "      <td>Dav Pilkey</td>\n",
       "      <td>4.9</td>\n",
       "      <td>4786</td>\n",
       "      <td>8</td>\n",
       "      <td>2017</td>\n",
       "      <td>Fiction</td>\n",
       "    </tr>\n",
       "    <tr>\n",
       "      <th>251</th>\n",
       "      <td>Oh, the Places You'll Go!</td>\n",
       "      <td>Dr. Seuss</td>\n",
       "      <td>4.9</td>\n",
       "      <td>21834</td>\n",
       "      <td>8</td>\n",
       "      <td>2018</td>\n",
       "      <td>Fiction</td>\n",
       "    </tr>\n",
       "    <tr>\n",
       "      <th>207</th>\n",
       "      <td>Last Week Tonight with John Oliver Presents A ...</td>\n",
       "      <td>Jill Twiss</td>\n",
       "      <td>4.9</td>\n",
       "      <td>11881</td>\n",
       "      <td>13</td>\n",
       "      <td>2018</td>\n",
       "      <td>Fiction</td>\n",
       "    </tr>\n",
       "    <tr>\n",
       "      <th>488</th>\n",
       "      <td>The Wonderful Things You Will Be</td>\n",
       "      <td>Emily Winfield Martin</td>\n",
       "      <td>4.9</td>\n",
       "      <td>8842</td>\n",
       "      <td>10</td>\n",
       "      <td>2018</td>\n",
       "      <td>Fiction</td>\n",
       "    </tr>\n",
       "    <tr>\n",
       "      <th>87</th>\n",
       "      <td>Dog Man: Lord of the Fleas: From the Creator o...</td>\n",
       "      <td>Dav Pilkey</td>\n",
       "      <td>4.9</td>\n",
       "      <td>5470</td>\n",
       "      <td>6</td>\n",
       "      <td>2018</td>\n",
       "      <td>Fiction</td>\n",
       "    </tr>\n",
       "    <tr>\n",
       "      <th>81</th>\n",
       "      <td>Dog Man and Cat Kid: From the Creator of Capta...</td>\n",
       "      <td>Dav Pilkey</td>\n",
       "      <td>4.9</td>\n",
       "      <td>5062</td>\n",
       "      <td>6</td>\n",
       "      <td>2018</td>\n",
       "      <td>Fiction</td>\n",
       "    </tr>\n",
       "    <tr>\n",
       "      <th>481</th>\n",
       "      <td>The Very Hungry Caterpillar</td>\n",
       "      <td>Eric Carle</td>\n",
       "      <td>4.9</td>\n",
       "      <td>19546</td>\n",
       "      <td>5</td>\n",
       "      <td>2018</td>\n",
       "      <td>Fiction</td>\n",
       "    </tr>\n",
       "    <tr>\n",
       "      <th>83</th>\n",
       "      <td>Dog Man: Brawl of the Wild: From the Creator o...</td>\n",
       "      <td>Dav Pilkey</td>\n",
       "      <td>4.9</td>\n",
       "      <td>7235</td>\n",
       "      <td>4</td>\n",
       "      <td>2018</td>\n",
       "      <td>Fiction</td>\n",
       "    </tr>\n",
       "    <tr>\n",
       "      <th>489</th>\n",
       "      <td>The Wonderful Things You Will Be</td>\n",
       "      <td>Emily Winfield Martin</td>\n",
       "      <td>4.9</td>\n",
       "      <td>8842</td>\n",
       "      <td>10</td>\n",
       "      <td>2019</td>\n",
       "      <td>Fiction</td>\n",
       "    </tr>\n",
       "    <tr>\n",
       "      <th>41</th>\n",
       "      <td>Brown Bear, Brown Bear, What Do You See?</td>\n",
       "      <td>Bill Martin Jr.</td>\n",
       "      <td>4.9</td>\n",
       "      <td>14344</td>\n",
       "      <td>5</td>\n",
       "      <td>2019</td>\n",
       "      <td>Fiction</td>\n",
       "    </tr>\n",
       "    <tr>\n",
       "      <th>482</th>\n",
       "      <td>The Very Hungry Caterpillar</td>\n",
       "      <td>Eric Carle</td>\n",
       "      <td>4.9</td>\n",
       "      <td>19546</td>\n",
       "      <td>5</td>\n",
       "      <td>2019</td>\n",
       "      <td>Fiction</td>\n",
       "    </tr>\n",
       "    <tr>\n",
       "      <th>84</th>\n",
       "      <td>Dog Man: Brawl of the Wild: From the Creator o...</td>\n",
       "      <td>Dav Pilkey</td>\n",
       "      <td>4.9</td>\n",
       "      <td>7235</td>\n",
       "      <td>4</td>\n",
       "      <td>2019</td>\n",
       "      <td>Fiction</td>\n",
       "    </tr>\n",
       "    <tr>\n",
       "      <th>85</th>\n",
       "      <td>Dog Man: Fetch-22: From the Creator of Captain...</td>\n",
       "      <td>Dav Pilkey</td>\n",
       "      <td>4.9</td>\n",
       "      <td>12619</td>\n",
       "      <td>8</td>\n",
       "      <td>2019</td>\n",
       "      <td>Fiction</td>\n",
       "    </tr>\n",
       "    <tr>\n",
       "      <th>86</th>\n",
       "      <td>Dog Man: For Whom the Ball Rolls: From the Cre...</td>\n",
       "      <td>Dav Pilkey</td>\n",
       "      <td>4.9</td>\n",
       "      <td>9089</td>\n",
       "      <td>8</td>\n",
       "      <td>2019</td>\n",
       "      <td>Fiction</td>\n",
       "    </tr>\n",
       "    <tr>\n",
       "      <th>155</th>\n",
       "      <td>Harry Potter and the Goblet of Fire: The Illus...</td>\n",
       "      <td>J. K. Rowling</td>\n",
       "      <td>4.9</td>\n",
       "      <td>7758</td>\n",
       "      <td>18</td>\n",
       "      <td>2019</td>\n",
       "      <td>Fiction</td>\n",
       "    </tr>\n",
       "    <tr>\n",
       "      <th>303</th>\n",
       "      <td>Strange Planet (Strange Planet Series)</td>\n",
       "      <td>Nathan W. Pyle</td>\n",
       "      <td>4.9</td>\n",
       "      <td>9382</td>\n",
       "      <td>6</td>\n",
       "      <td>2019</td>\n",
       "      <td>Fiction</td>\n",
       "    </tr>\n",
       "    <tr>\n",
       "      <th>252</th>\n",
       "      <td>Oh, the Places You'll Go!</td>\n",
       "      <td>Dr. Seuss</td>\n",
       "      <td>4.9</td>\n",
       "      <td>21834</td>\n",
       "      <td>8</td>\n",
       "      <td>2019</td>\n",
       "      <td>Fiction</td>\n",
       "    </tr>\n",
       "    <tr>\n",
       "      <th>521</th>\n",
       "      <td>Unfreedom of the Press</td>\n",
       "      <td>Mark R. Levin</td>\n",
       "      <td>4.9</td>\n",
       "      <td>5956</td>\n",
       "      <td>11</td>\n",
       "      <td>2019</td>\n",
       "      <td>Non Fiction</td>\n",
       "    </tr>\n",
       "    <tr>\n",
       "      <th>545</th>\n",
       "      <td>Wrecking Ball (Diary of a Wimpy Kid Book 14)</td>\n",
       "      <td>Jeff Kinney</td>\n",
       "      <td>4.9</td>\n",
       "      <td>9413</td>\n",
       "      <td>8</td>\n",
       "      <td>2019</td>\n",
       "      <td>Fiction</td>\n",
       "    </tr>\n",
       "  </tbody>\n",
       "</table>\n",
       "</div>"
      ],
      "text/plain": [
       "                                                  Name                 Author  \\\n",
       "187  Jesus Calling: Enjoying Peace in His Presence ...            Sarah Young   \n",
       "188  Jesus Calling: Enjoying Peace in His Presence ...            Sarah Young   \n",
       "245                          Oh, the Places You'll Go!              Dr. Seuss   \n",
       "146  Goodnight, Goodnight Construction Site (Hardco...   Sherri Duskey Rinker   \n",
       "147  Goodnight, Goodnight Construction Site (Hardco...   Sherri Duskey Rinker   \n",
       "246                          Oh, the Places You'll Go!              Dr. Seuss   \n",
       "420               The Legend of Zelda: Hyrule Historia         Patrick Thorpe   \n",
       "476                        The Very Hungry Caterpillar             Eric Carle   \n",
       "288  Rush Revere and the Brave Pilgrims: Time-Trave...          Rush Limbaugh   \n",
       "189  Jesus Calling: Enjoying Peace in His Presence ...            Sarah Young   \n",
       "289  Rush Revere and the First Patriots: Time-Trave...          Rush Limbaugh   \n",
       "190  Jesus Calling: Enjoying Peace in His Presence ...            Sarah Young   \n",
       "477                        The Very Hungry Caterpillar             Eric Carle   \n",
       "219                                  Little Blue Truck         Alice Schertle   \n",
       "247                          Oh, the Places You'll Go!              Dr. Seuss   \n",
       "191  Jesus Calling: Enjoying Peace in His Presence ...            Sarah Young   \n",
       "478                        The Very Hungry Caterpillar             Eric Carle   \n",
       "248                          Oh, the Places You'll Go!              Dr. Seuss   \n",
       "174                       Humans of New York : Stories        Brandon Stanton   \n",
       "192  Jesus Calling: Enjoying Peace in His Presence ...            Sarah Young   \n",
       "157  Harry Potter and the Sorcerer's Stone: The Ill...           J.K. Rowling   \n",
       "249                          Oh, the Places You'll Go!              Dr. Seuss   \n",
       "151                           Hamilton: The Revolution     Lin-Manuel Miranda   \n",
       "431                                 The Magnolia Story            Chip Gaines   \n",
       "479                        The Very Hungry Caterpillar             Eric Carle   \n",
       "486                   The Wonderful Things You Will Be  Emily Winfield Martin   \n",
       "153  Harry Potter and the Chamber of Secrets: The I...           J.K. Rowling   \n",
       "250                          Oh, the Places You'll Go!              Dr. Seuss   \n",
       "480                        The Very Hungry Caterpillar             Eric Carle   \n",
       "487                   The Wonderful Things You Will Be  Emily Winfield Martin   \n",
       "40            Brown Bear, Brown Bear, What Do You See?        Bill Martin Jr.   \n",
       "244                        Obama: An Intimate Portrait             Pete Souza   \n",
       "156  Harry Potter and the Prisoner of Azkaban: The ...           J.K. Rowling   \n",
       "82   Dog Man: A Tale of Two Kitties: From the Creat...             Dav Pilkey   \n",
       "251                          Oh, the Places You'll Go!              Dr. Seuss   \n",
       "207  Last Week Tonight with John Oliver Presents A ...             Jill Twiss   \n",
       "488                   The Wonderful Things You Will Be  Emily Winfield Martin   \n",
       "87   Dog Man: Lord of the Fleas: From the Creator o...             Dav Pilkey   \n",
       "81   Dog Man and Cat Kid: From the Creator of Capta...             Dav Pilkey   \n",
       "481                        The Very Hungry Caterpillar             Eric Carle   \n",
       "83   Dog Man: Brawl of the Wild: From the Creator o...             Dav Pilkey   \n",
       "489                   The Wonderful Things You Will Be  Emily Winfield Martin   \n",
       "41            Brown Bear, Brown Bear, What Do You See?        Bill Martin Jr.   \n",
       "482                        The Very Hungry Caterpillar             Eric Carle   \n",
       "84   Dog Man: Brawl of the Wild: From the Creator o...             Dav Pilkey   \n",
       "85   Dog Man: Fetch-22: From the Creator of Captain...             Dav Pilkey   \n",
       "86   Dog Man: For Whom the Ball Rolls: From the Cre...             Dav Pilkey   \n",
       "155  Harry Potter and the Goblet of Fire: The Illus...          J. K. Rowling   \n",
       "303             Strange Planet (Strange Planet Series)         Nathan W. Pyle   \n",
       "252                          Oh, the Places You'll Go!              Dr. Seuss   \n",
       "521                             Unfreedom of the Press          Mark R. Levin   \n",
       "545       Wrecking Ball (Diary of a Wimpy Kid Book 14)            Jeff Kinney   \n",
       "\n",
       "     User Rating  Reviews  Price  Year        Genre  \n",
       "187          4.9    19576      8  2011  Non Fiction  \n",
       "188          4.9    19576      8  2012  Non Fiction  \n",
       "245          4.9    21834      8  2012      Fiction  \n",
       "146          4.9     7038      7  2012      Fiction  \n",
       "147          4.9     7038      7  2013      Fiction  \n",
       "246          4.9    21834      8  2013      Fiction  \n",
       "420          4.9     5396     20  2013      Fiction  \n",
       "476          4.9    19546      5  2013      Fiction  \n",
       "288          4.9     7150     12  2013      Fiction  \n",
       "189          4.9    19576      8  2013  Non Fiction  \n",
       "289          4.9     3836     12  2014      Fiction  \n",
       "190          4.9    19576      8  2014  Non Fiction  \n",
       "477          4.9    19546      5  2014      Fiction  \n",
       "219          4.9     1884      0  2014      Fiction  \n",
       "247          4.9    21834      8  2014      Fiction  \n",
       "191          4.9    19576      8  2015  Non Fiction  \n",
       "478          4.9    19546      5  2015      Fiction  \n",
       "248          4.9    21834      8  2015      Fiction  \n",
       "174          4.9     2812     17  2015  Non Fiction  \n",
       "192          4.9    19576      8  2016  Non Fiction  \n",
       "157          4.9    10052     22  2016      Fiction  \n",
       "249          4.9    21834      8  2016      Fiction  \n",
       "151          4.9     5867     54  2016  Non Fiction  \n",
       "431          4.9     7861      5  2016  Non Fiction  \n",
       "479          4.9    19546      5  2016      Fiction  \n",
       "486          4.9     8842     10  2016      Fiction  \n",
       "153          4.9    19622     30  2016      Fiction  \n",
       "250          4.9    21834      8  2017      Fiction  \n",
       "480          4.9    19546      5  2017      Fiction  \n",
       "487          4.9     8842     10  2017      Fiction  \n",
       "40           4.9    14344      5  2017      Fiction  \n",
       "244          4.9     3192     22  2017  Non Fiction  \n",
       "156          4.9     3146     30  2017      Fiction  \n",
       "82           4.9     4786      8  2017      Fiction  \n",
       "251          4.9    21834      8  2018      Fiction  \n",
       "207          4.9    11881     13  2018      Fiction  \n",
       "488          4.9     8842     10  2018      Fiction  \n",
       "87           4.9     5470      6  2018      Fiction  \n",
       "81           4.9     5062      6  2018      Fiction  \n",
       "481          4.9    19546      5  2018      Fiction  \n",
       "83           4.9     7235      4  2018      Fiction  \n",
       "489          4.9     8842     10  2019      Fiction  \n",
       "41           4.9    14344      5  2019      Fiction  \n",
       "482          4.9    19546      5  2019      Fiction  \n",
       "84           4.9     7235      4  2019      Fiction  \n",
       "85           4.9    12619      8  2019      Fiction  \n",
       "86           4.9     9089      8  2019      Fiction  \n",
       "155          4.9     7758     18  2019      Fiction  \n",
       "303          4.9     9382      6  2019      Fiction  \n",
       "252          4.9    21834      8  2019      Fiction  \n",
       "521          4.9     5956     11  2019  Non Fiction  \n",
       "545          4.9     9413      8  2019      Fiction  "
      ]
     },
     "execution_count": 23,
     "metadata": {},
     "output_type": "execute_result"
    }
   ],
   "source": [
    "df[df[\"User Rating\"]==df[\"User Rating\"].max()].sort_values(\"Year\")"
   ]
  },
  {
   "cell_type": "markdown",
   "id": "e652e407",
   "metadata": {},
   "source": [
    "# Highest Reviews of a Book"
   ]
  },
  {
   "cell_type": "code",
   "execution_count": 24,
   "id": "0c6554ae",
   "metadata": {},
   "outputs": [
    {
     "data": {
      "text/plain": [
       "87841"
      ]
     },
     "execution_count": 24,
     "metadata": {},
     "output_type": "execute_result"
    }
   ],
   "source": [
    "df[\"Reviews\"].max()"
   ]
  },
  {
   "cell_type": "markdown",
   "id": "6c40b5ff",
   "metadata": {},
   "source": [
    "# List of All books Whose Reviews are Highest"
   ]
  },
  {
   "cell_type": "code",
   "execution_count": 25,
   "id": "926bb7e2",
   "metadata": {},
   "outputs": [
    {
     "data": {
      "text/html": [
       "<div>\n",
       "<style scoped>\n",
       "    .dataframe tbody tr th:only-of-type {\n",
       "        vertical-align: middle;\n",
       "    }\n",
       "\n",
       "    .dataframe tbody tr th {\n",
       "        vertical-align: top;\n",
       "    }\n",
       "\n",
       "    .dataframe thead th {\n",
       "        text-align: right;\n",
       "    }\n",
       "</style>\n",
       "<table border=\"1\" class=\"dataframe\">\n",
       "  <thead>\n",
       "    <tr style=\"text-align: right;\">\n",
       "      <th></th>\n",
       "      <th>Name</th>\n",
       "      <th>Author</th>\n",
       "      <th>User Rating</th>\n",
       "      <th>Reviews</th>\n",
       "      <th>Price</th>\n",
       "      <th>Year</th>\n",
       "      <th>Genre</th>\n",
       "    </tr>\n",
       "  </thead>\n",
       "  <tbody>\n",
       "    <tr>\n",
       "      <th>534</th>\n",
       "      <td>Where the Crawdads Sing</td>\n",
       "      <td>Delia Owens</td>\n",
       "      <td>4.8</td>\n",
       "      <td>87841</td>\n",
       "      <td>15</td>\n",
       "      <td>2019</td>\n",
       "      <td>Fiction</td>\n",
       "    </tr>\n",
       "  </tbody>\n",
       "</table>\n",
       "</div>"
      ],
      "text/plain": [
       "                        Name       Author  User Rating  Reviews  Price  Year  \\\n",
       "534  Where the Crawdads Sing  Delia Owens          4.8    87841     15  2019   \n",
       "\n",
       "       Genre  \n",
       "534  Fiction  "
      ]
     },
     "execution_count": 25,
     "metadata": {},
     "output_type": "execute_result"
    }
   ],
   "source": [
    "df[df[\"Reviews\"]==df[\"Reviews\"].max()]"
   ]
  },
  {
   "cell_type": "markdown",
   "id": "7ce9e2b5",
   "metadata": {},
   "source": [
    "# Lowest Reviews of a Book"
   ]
  },
  {
   "cell_type": "code",
   "execution_count": 26,
   "id": "1dcafeec",
   "metadata": {},
   "outputs": [
    {
     "data": {
      "text/plain": [
       "37"
      ]
     },
     "execution_count": 26,
     "metadata": {},
     "output_type": "execute_result"
    }
   ],
   "source": [
    "df[\"Reviews\"].min()"
   ]
  },
  {
   "cell_type": "markdown",
   "id": "ba0825d6",
   "metadata": {},
   "source": [
    "# List of All Books Whose Reviews are lowest"
   ]
  },
  {
   "cell_type": "code",
   "execution_count": 27,
   "id": "9a1e63ec",
   "metadata": {},
   "outputs": [
    {
     "data": {
      "text/html": [
       "<div>\n",
       "<style scoped>\n",
       "    .dataframe tbody tr th:only-of-type {\n",
       "        vertical-align: middle;\n",
       "    }\n",
       "\n",
       "    .dataframe tbody tr th {\n",
       "        vertical-align: top;\n",
       "    }\n",
       "\n",
       "    .dataframe thead th {\n",
       "        text-align: right;\n",
       "    }\n",
       "</style>\n",
       "<table border=\"1\" class=\"dataframe\">\n",
       "  <thead>\n",
       "    <tr style=\"text-align: right;\">\n",
       "      <th></th>\n",
       "      <th>Name</th>\n",
       "      <th>Author</th>\n",
       "      <th>User Rating</th>\n",
       "      <th>Reviews</th>\n",
       "      <th>Price</th>\n",
       "      <th>Year</th>\n",
       "      <th>Genre</th>\n",
       "    </tr>\n",
       "  </thead>\n",
       "  <tbody>\n",
       "    <tr>\n",
       "      <th>78</th>\n",
       "      <td>Divine Soul Mind Body Healing and Transmission...</td>\n",
       "      <td>Zhi Gang Sha</td>\n",
       "      <td>4.6</td>\n",
       "      <td>37</td>\n",
       "      <td>6</td>\n",
       "      <td>2009</td>\n",
       "      <td>Non Fiction</td>\n",
       "    </tr>\n",
       "  </tbody>\n",
       "</table>\n",
       "</div>"
      ],
      "text/plain": [
       "                                                 Name        Author  \\\n",
       "78  Divine Soul Mind Body Healing and Transmission...  Zhi Gang Sha   \n",
       "\n",
       "    User Rating  Reviews  Price  Year        Genre  \n",
       "78          4.6       37      6  2009  Non Fiction  "
      ]
     },
     "execution_count": 27,
     "metadata": {},
     "output_type": "execute_result"
    }
   ],
   "source": [
    "df[df[\"Reviews\"]==df[\"Reviews\"].min()]"
   ]
  },
  {
   "cell_type": "markdown",
   "id": "fcd18e22",
   "metadata": {},
   "source": [
    "# Count of User Rating "
   ]
  },
  {
   "cell_type": "code",
   "execution_count": 28,
   "id": "6aafc50b",
   "metadata": {},
   "outputs": [
    {
     "data": {
      "text/plain": [
       "User Rating\n",
       "3.3      1\n",
       "3.6      1\n",
       "3.8      2\n",
       "3.9      3\n",
       "4.0     14\n",
       "4.1      6\n",
       "4.2      8\n",
       "4.3     25\n",
       "4.4     38\n",
       "4.5     60\n",
       "4.6    105\n",
       "4.7    108\n",
       "4.8    127\n",
       "4.9     52\n",
       "Name: User Rating, dtype: int64"
      ]
     },
     "execution_count": 28,
     "metadata": {},
     "output_type": "execute_result"
    }
   ],
   "source": [
    "df.groupby('User Rating')['User Rating'].count()"
   ]
  },
  {
   "cell_type": "markdown",
   "id": "94f50ea4",
   "metadata": {},
   "source": [
    "# Count the number of books on Genre "
   ]
  },
  {
   "cell_type": "code",
   "execution_count": 29,
   "id": "ad74996d",
   "metadata": {},
   "outputs": [
    {
     "data": {
      "text/plain": [
       "Non Fiction    310\n",
       "Fiction        240\n",
       "Name: Genre, dtype: int64"
      ]
     },
     "execution_count": 29,
     "metadata": {},
     "output_type": "execute_result"
    }
   ],
   "source": [
    "df['Genre'].value_counts()"
   ]
  },
  {
   "cell_type": "markdown",
   "id": "b7265510",
   "metadata": {},
   "source": [
    "# Representation of Genre on Pie Plot"
   ]
  },
  {
   "cell_type": "code",
   "execution_count": 30,
   "id": "26975327",
   "metadata": {},
   "outputs": [
    {
     "data": {
      "image/png": "[encoded data removed]",
      "text/plain": [
       "<Figure size 288x288 with 1 Axes>"
      ]
     },
     "metadata": {},
     "output_type": "display_data"
    }
   ],
   "source": [
    "plt.figure(figsize=(4,4))\n",
    "df['Genre'].value_counts().plot(kind='pie',autopct=(\"%1.2f%%\"))\n",
    "plt.show()"
   ]
  },
  {
   "cell_type": "markdown",
   "id": "c2fb6930",
   "metadata": {},
   "source": [
    "# Genre with respect to Price"
   ]
  },
  {
   "cell_type": "code",
   "execution_count": 31,
   "id": "6b6a6d90",
   "metadata": {},
   "outputs": [
    {
     "data": {
      "text/plain": [
       "Genre\n",
       "Fiction        10.850000\n",
       "Non Fiction    14.841935\n",
       "Name: Price, dtype: float64"
      ]
     },
     "execution_count": 31,
     "metadata": {},
     "output_type": "execute_result"
    }
   ],
   "source": [
    "df.groupby(\"Genre\")[\"Price\"].mean()"
   ]
  },
  {
   "cell_type": "markdown",
   "id": "bf8f5723",
   "metadata": {},
   "source": [
    "\n",
    "#  Representation of Genre w.r.t Price on Bar Plot"
   ]
  },
  {
   "cell_type": "code",
   "execution_count": 32,
   "id": "118fc09c",
   "metadata": {},
   "outputs": [
    {
     "data": {
      "text/plain": [
       "<AxesSubplot:xlabel='Genre', ylabel='Price'>"
      ]
     },
     "execution_count": 32,
     "metadata": {},
     "output_type": "execute_result"
    },
    {
     "data": {
      "image/png": "[encoded data removed]",
      "text/plain": [
       "<Figure size 432x288 with 1 Axes>"
      ]
     },
     "metadata": {
      "needs_background": "light"
     },
     "output_type": "display_data"
    }
   ],
   "source": [
    "df.groupby(\"Genre\")[\"Price\"].mean().plot(kind='bar',xlabel=\"Genre\",ylabel=\"Price\")\n"
   ]
  },
  {
   "cell_type": "code",
   "execution_count": 33,
   "id": "a81b3484",
   "metadata": {},
   "outputs": [
    {
     "data": {
      "text/plain": [
       "<AxesSubplot:ylabel='Price'>"
      ]
     },
     "execution_count": 33,
     "metadata": {},
     "output_type": "execute_result"
    },
    {
     "data": {
      "image/png": "[encoded data removed]",
      "text/plain": [
       "<Figure size 432x288 with 1 Axes>"
      ]
     },
     "metadata": {},
     "output_type": "display_data"
    }
   ],
   "source": [
    "df.groupby(\"Genre\")[\"Price\"].mean().plot(kind='pie',autopct=(\"%1.2f%%\"))"
   ]
  },
  {
   "cell_type": "markdown",
   "id": "c6591f19",
   "metadata": {},
   "source": [
    "# Year wise Genre"
   ]
  },
  {
   "cell_type": "code",
   "execution_count": 34,
   "id": "4b53ffb4",
   "metadata": {},
   "outputs": [
    {
     "data": {
      "text/plain": [
       "Year  Genre      \n",
       "2009  Non Fiction    26\n",
       "      Fiction        24\n",
       "2010  Non Fiction    30\n",
       "      Fiction        20\n",
       "2011  Non Fiction    29\n",
       "      Fiction        21\n",
       "2012  Non Fiction    29\n",
       "      Fiction        21\n",
       "2013  Non Fiction    26\n",
       "      Fiction        24\n",
       "2014  Fiction        29\n",
       "      Non Fiction    21\n",
       "2015  Non Fiction    33\n",
       "      Fiction        17\n",
       "2016  Non Fiction    31\n",
       "      Fiction        19\n",
       "2017  Non Fiction    26\n",
       "      Fiction        24\n",
       "2018  Non Fiction    29\n",
       "      Fiction        21\n",
       "2019  Non Fiction    30\n",
       "      Fiction        20\n",
       "Name: Genre, dtype: int64"
      ]
     },
     "execution_count": 34,
     "metadata": {},
     "output_type": "execute_result"
    }
   ],
   "source": [
    "df.groupby(\"Year\")['Genre'].value_counts()"
   ]
  },
  {
   "cell_type": "markdown",
   "id": "9c596fda",
   "metadata": {},
   "source": [
    "# Representation of Book on Genre Year wise on Count Plot"
   ]
  },
  {
   "cell_type": "code",
   "execution_count": 35,
   "id": "9ca67c82",
   "metadata": {},
   "outputs": [
    {
     "data": {
      "text/plain": [
       "<AxesSubplot:xlabel='Year', ylabel='count'>"
      ]
     },
     "execution_count": 35,
     "metadata": {},
     "output_type": "execute_result"
    },
    {
     "data": {
      "image/png": "[encoded data removed]",
      "text/plain": [
       "<Figure size 720x576 with 1 Axes>"
      ]
     },
     "metadata": {
      "needs_background": "light"
     },
     "output_type": "display_data"
    }
   ],
   "source": [
    "plt.figure(figsize=(10,8))\n",
    "sns.countplot(data=df,x=\"Year\",hue=\"Genre\")"
   ]
  },
  {
   "cell_type": "markdown",
   "id": "869f6b22",
   "metadata": {},
   "source": [
    "# Representation of User Rating on Dist Plot"
   ]
  },
  {
   "cell_type": "code",
   "execution_count": 36,
   "id": "cb99f3fe",
   "metadata": {},
   "outputs": [
    {
     "data": {
      "image/png": "[encoded data removed]",
      "text/plain": [
       "<Figure size 432x288 with 1 Axes>"
      ]
     },
     "metadata": {
      "needs_background": "light"
     },
     "output_type": "display_data"
    }
   ],
   "source": [
    "m=df['User Rating'].mean()\n",
    "d=df['User Rating'].median()\n",
    "\n",
    "sns.distplot(df['User Rating'])\n",
    "\n",
    "plt.axvline(m,color=\"red\")\n",
    "plt.axvline(d,color=\"yellow\")\n",
    "plt.show()"
   ]
  },
  {
   "cell_type": "markdown",
   "id": "ba128480",
   "metadata": {},
   "source": [
    "# Representation of User Raiting on Count Plot"
   ]
  },
  {
   "cell_type": "code",
   "execution_count": 37,
   "id": "8263f45d",
   "metadata": {},
   "outputs": [
    {
     "data": {
      "image/png": "[encoded data removed]",
      "text/plain": [
       "<Figure size 432x288 with 1 Axes>"
      ]
     },
     "metadata": {
      "needs_background": "light"
     },
     "output_type": "display_data"
    }
   ],
   "source": [
    "sns.countplot(data=df,x=\"User Rating\")\n",
    "plt.grid(True)"
   ]
  },
  {
   "cell_type": "markdown",
   "id": "449889a8",
   "metadata": {},
   "source": [
    "#  Genre with respect to User Ratings"
   ]
  },
  {
   "cell_type": "code",
   "execution_count": 38,
   "id": "46f815f4",
   "metadata": {},
   "outputs": [
    {
     "data": {
      "text/plain": [
       "Genre\n",
       "Fiction        4.648333\n",
       "Non Fiction    4.595161\n",
       "Name: User Rating, dtype: float64"
      ]
     },
     "execution_count": 38,
     "metadata": {},
     "output_type": "execute_result"
    }
   ],
   "source": [
    "df.groupby(\"Genre\")[\"User Rating\"].mean()"
   ]
  },
  {
   "cell_type": "markdown",
   "id": "1284d380",
   "metadata": {},
   "source": [
    "# Representation of User Raiting w.r.t Genre on Bar Plot"
   ]
  },
  {
   "cell_type": "code",
   "execution_count": 39,
   "id": "73022bae",
   "metadata": {},
   "outputs": [
    {
     "data": {
      "text/plain": [
       "<AxesSubplot:ylabel='User Rating'>"
      ]
     },
     "execution_count": 39,
     "metadata": {},
     "output_type": "execute_result"
    },
    {
     "data": {
      "image/png": "[encoded data removed]",
      "text/plain": [
       "<Figure size 432x288 with 1 Axes>"
      ]
     },
     "metadata": {},
     "output_type": "display_data"
    }
   ],
   "source": [
    "df.groupby(\"Genre\")[\"User Rating\"].mean().plot(kind='pie',autopct=(\"%1.2f%%\"))"
   ]
  },
  {
   "cell_type": "markdown",
   "id": "91c4013c",
   "metadata": {},
   "source": [
    "#  Genre with respect to Reviews"
   ]
  },
  {
   "cell_type": "code",
   "execution_count": 40,
   "id": "8b1ffe9b",
   "metadata": {},
   "outputs": [
    {
     "data": {
      "text/plain": [
       "Genre\n",
       "Fiction        15683.791667\n",
       "Non Fiction     9065.145161\n",
       "Name: Reviews, dtype: float64"
      ]
     },
     "execution_count": 40,
     "metadata": {},
     "output_type": "execute_result"
    }
   ],
   "source": [
    "df.groupby(\"Genre\")[\"Reviews\"].mean()"
   ]
  },
  {
   "cell_type": "markdown",
   "id": "c529b471",
   "metadata": {},
   "source": [
    "# Representation of Reviews w.r.t Genre on Pie Plot"
   ]
  },
  {
   "cell_type": "code",
   "execution_count": 41,
   "id": "77e5a16d",
   "metadata": {},
   "outputs": [
    {
     "data": {
      "text/plain": [
       "<AxesSubplot:ylabel='Reviews'>"
      ]
     },
     "execution_count": 41,
     "metadata": {},
     "output_type": "execute_result"
    },
    {
     "data": {
      "image/png": "[encoded data removed]",
      "text/plain": [
       "<Figure size 432x288 with 1 Axes>"
      ]
     },
     "metadata": {},
     "output_type": "display_data"
    }
   ],
   "source": [
    "df.groupby(\"Genre\")[\"Reviews\"].mean().plot(kind='pie',autopct=(\"%1.2f%%\"))"
   ]
  },
  {
   "cell_type": "markdown",
   "id": "a8f8877a",
   "metadata": {},
   "source": [
    "# Representation of Reviews w.r.t Genre on Bar Plot"
   ]
  },
  {
   "cell_type": "code",
   "execution_count": 42,
   "id": "70491b85",
   "metadata": {},
   "outputs": [
    {
     "data": {
      "text/plain": [
       "<AxesSubplot:xlabel='Genre'>"
      ]
     },
     "execution_count": 42,
     "metadata": {},
     "output_type": "execute_result"
    },
    {
     "data": {
      "image/png": "[encoded data removed]",
      "text/plain": [
       "<Figure size 432x288 with 1 Axes>"
      ]
     },
     "metadata": {
      "needs_background": "light"
     },
     "output_type": "display_data"
    }
   ],
   "source": [
    "df.groupby(\"Genre\")[\"Reviews\"].mean().plot(kind='bar')\n"
   ]
  },
  {
   "cell_type": "markdown",
   "id": "f9d5b0cb",
   "metadata": {},
   "source": [
    "# Price of Books over the Year"
   ]
  },
  {
   "cell_type": "code",
   "execution_count": 43,
   "id": "aaf2405f",
   "metadata": {},
   "outputs": [
    {
     "data": {
      "text/plain": [
       "Year\n",
       "2009    15.40\n",
       "2010    13.48\n",
       "2011    15.10\n",
       "2012    15.30\n",
       "2013    14.60\n",
       "2014    14.64\n",
       "2015    10.42\n",
       "2016    13.18\n",
       "2017    11.38\n",
       "2018    10.52\n",
       "2019    10.08\n",
       "Name: Price, dtype: float64"
      ]
     },
     "execution_count": 43,
     "metadata": {},
     "output_type": "execute_result"
    }
   ],
   "source": [
    "df.groupby(\"Year\")[\"Price\"].mean()"
   ]
  },
  {
   "cell_type": "markdown",
   "id": "e918a537",
   "metadata": {},
   "source": [
    "# Representation of Price w.r.t Year on Line Plot"
   ]
  },
  {
   "cell_type": "code",
   "execution_count": 44,
   "id": "1979ba3b",
   "metadata": {},
   "outputs": [
    {
     "data": {
      "text/plain": [
       "<AxesSubplot:xlabel='Year'>"
      ]
     },
     "execution_count": 44,
     "metadata": {},
     "output_type": "execute_result"
    },
    {
     "data": {
      "image/png": "[encoded data removed]",
      "text/plain": [
       "<Figure size 432x288 with 1 Axes>"
      ]
     },
     "metadata": {
      "needs_background": "light"
     },
     "output_type": "display_data"
    }
   ],
   "source": [
    "df.groupby(\"Year\")[\"Price\"].mean().plot(kind='line')"
   ]
  },
  {
   "cell_type": "markdown",
   "id": "9d398cf5",
   "metadata": {},
   "source": [
    "#  User Rating Over the Year"
   ]
  },
  {
   "cell_type": "code",
   "execution_count": 45,
   "id": "6036933b",
   "metadata": {},
   "outputs": [
    {
     "data": {
      "text/plain": [
       "Year\n",
       "2009    4.584\n",
       "2010    4.558\n",
       "2011    4.558\n",
       "2012    4.532\n",
       "2013    4.554\n",
       "2014    4.622\n",
       "2015    4.648\n",
       "2016    4.678\n",
       "2017    4.660\n",
       "2018    4.668\n",
       "2019    4.740\n",
       "Name: User Rating, dtype: float64"
      ]
     },
     "execution_count": 45,
     "metadata": {},
     "output_type": "execute_result"
    }
   ],
   "source": [
    "df.groupby(\"Year\")[\"User Rating\"].mean()"
   ]
  },
  {
   "cell_type": "markdown",
   "id": "80857efb",
   "metadata": {},
   "source": [
    "# Representation of User Rating w.r.t Year on Line Plot"
   ]
  },
  {
   "cell_type": "code",
   "execution_count": 46,
   "id": "4fb3a1b8",
   "metadata": {},
   "outputs": [
    {
     "data": {
      "text/plain": [
       "<AxesSubplot:xlabel='Year', ylabel='User Rating'>"
      ]
     },
     "execution_count": 46,
     "metadata": {},
     "output_type": "execute_result"
    },
    {
     "data": {
      "image/png": "[encoded data removed]",
      "text/plain": [
       "<Figure size 432x288 with 1 Axes>"
      ]
     },
     "metadata": {
      "needs_background": "light"
     },
     "output_type": "display_data"
    }
   ],
   "source": [
    "df.groupby(\"Year\")[\"User Rating\"].mean().plot(kind='line',xlabel=\"Year\",ylabel=\"User Rating\")\n"
   ]
  },
  {
   "cell_type": "markdown",
   "id": "2494d226",
   "metadata": {},
   "source": [
    "# Reviews of Books Over the Year"
   ]
  },
  {
   "cell_type": "code",
   "execution_count": 47,
   "id": "0bd00403",
   "metadata": {},
   "outputs": [
    {
     "data": {
      "text/plain": [
       "Year\n",
       "2009     4710.12\n",
       "2010     5479.62\n",
       "2011     8100.82\n",
       "2012    13090.92\n",
       "2013    13098.14\n",
       "2014    15859.94\n",
       "2015    14233.38\n",
       "2016    14196.00\n",
       "2017    12888.40\n",
       "2018    13930.42\n",
       "2019    15898.34\n",
       "Name: Reviews, dtype: float64"
      ]
     },
     "execution_count": 47,
     "metadata": {},
     "output_type": "execute_result"
    }
   ],
   "source": [
    "df.groupby(\"Year\")[\"Reviews\"].mean()"
   ]
  },
  {
   "cell_type": "markdown",
   "id": "092df3a9",
   "metadata": {},
   "source": [
    "# Representation of Price on Bar Plot"
   ]
  },
  {
   "cell_type": "code",
   "execution_count": 48,
   "id": "ab0b6165",
   "metadata": {},
   "outputs": [
    {
     "data": {
      "image/png": "[encoded data removed]",
      "text/plain": [
       "<Figure size 864x576 with 1 Axes>"
      ]
     },
     "metadata": {
      "needs_background": "light"
     },
     "output_type": "display_data"
    }
   ],
   "source": [
    "plt.figure(figsize=(12,8))\n",
    "sns.countplot(data=df,y='Price')\n",
    "plt.grid(True)"
   ]
  },
  {
   "cell_type": "markdown",
   "id": "a8a80ce4",
   "metadata": {},
   "source": [
    "# Heatmap"
   ]
  },
  {
   "cell_type": "code",
   "execution_count": 49,
   "id": "6b48ad77",
   "metadata": {},
   "outputs": [
    {
     "data": {
      "text/plain": [
       "<AxesSubplot:>"
      ]
     },
     "execution_count": 49,
     "metadata": {},
     "output_type": "execute_result"
    },
    {
     "data": {
      "image/png": "[encoded data removed]",
      "text/plain": [
       "<Figure size 432x288 with 2 Axes>"
      ]
     },
     "metadata": {
      "needs_background": "light"
     },
     "output_type": "display_data"
    }
   ],
   "source": [
    "sns.heatmap(df.corr(),annot=True,cmap=\"Blues\")"
   ]
  },
  {
   "cell_type": "raw",
   "id": "9de8db49",
   "metadata": {},
   "source": [
    "From above heatmp we can conclude the following result:\n",
    "- There is a negative correlation between User Rating and Reviews.\n",
    "- There is a negative correlation between User Rating and Price. \n",
    "- There is a positive correlation between User Rating and Year."
   ]
  },
  {
   "cell_type": "markdown",
   "id": "8da62aa6",
   "metadata": {},
   "source": [
    "# Representation of User Rating w.r.t Genre on Line Plot"
   ]
  },
  {
   "cell_type": "code",
   "execution_count": 50,
   "id": "c26e3e23",
   "metadata": {},
   "outputs": [
    {
     "data": {
      "image/png": "[encoded data removed]",
      "text/plain": [
       "<Figure size 432x288 with 1 Axes>"
      ]
     },
     "metadata": {
      "needs_background": "light"
     },
     "output_type": "display_data"
    }
   ],
   "source": [
    "pd.crosstab(df['User Rating'], df['Genre']).plot(kind =\"line\")\n",
    "plt.show()"
   ]
  },
  {
   "cell_type": "markdown",
   "id": "c2b1c8fd",
   "metadata": {},
   "source": [
    "# Representation of Price  on Dist Plot"
   ]
  },
  {
   "cell_type": "code",
   "execution_count": 51,
   "id": "5a28b844",
   "metadata": {},
   "outputs": [
    {
     "data": {
      "image/png": "[encoded data removed]",
      "text/plain": [
       "<Figure size 432x288 with 1 Axes>"
      ]
     },
     "metadata": {
      "needs_background": "light"
     },
     "output_type": "display_data"
    }
   ],
   "source": [
    "m=df['Price'].mean()\n",
    "d=df['Price'].median()\n",
    "\n",
    "sns.distplot(df['Price'])\n",
    "\n",
    "plt.axvline(m,color=\"red\")\n",
    "plt.axvline(d,color=\"yellow\")\n",
    "\n",
    "plt.show()"
   ]
  },
  {
   "cell_type": "markdown",
   "id": "6dfb2761",
   "metadata": {},
   "source": [
    "# Representation of Price on Dist Plot"
   ]
  },
  {
   "cell_type": "code",
   "execution_count": 52,
   "id": "b2ec63cd",
   "metadata": {},
   "outputs": [
    {
     "data": {
      "text/plain": [
       "<seaborn.axisgrid.FacetGrid at 0x262947335e0>"
      ]
     },
     "execution_count": 52,
     "metadata": {},
     "output_type": "execute_result"
    },
    {
     "data": {
      "image/png": "[encoded data removed]",
      "text/plain": [
       "<Figure size 360x360 with 1 Axes>"
      ]
     },
     "metadata": {
      "needs_background": "light"
     },
     "output_type": "display_data"
    }
   ],
   "source": [
    "sns.displot(df[\"Price\"])"
   ]
  },
  {
   "cell_type": "markdown",
   "id": "118b21e6",
   "metadata": {},
   "source": [
    "# Interpretation"
   ]
  },
  {
   "cell_type": "markdown",
   "id": "816398b5",
   "metadata": {},
   "source": [
    "From the above analysis, we can concluded that :\n",
    "- Author 'Jeff Kinney' has most number of selling books from year 2009-2019 in Amazom Top Selling Books which is 12.\n",
    "- Highest Price of Book is 105 and the lowest Price of  Book is 0.\n",
    "- Highest User Rating of Book is 4.9 and the User Rating of  Book is 3.3.\n",
    "- Highest Review of Book is 87841 and the lowest Reviews of  Book is 37.\n",
    "- In top 50 selling book from 2009-2019,there are 310 book which are Non-Fiction i.e. 56.36% books are Non Fiction.\n",
    "- In top 50 selling book from 2009-2019,there are 240 book which are Fiction i.e. 43.64% books are Fiction.\n",
    "- The avg price of Fiction book is 42.23% which is 10.850000 and Non Fiction book is 57.77% which is 14.841935.\n",
    "- The avg User Rating of Fiction book is 4.648333 and Non Fiction book is 4.595161.\n",
    "- The avg Reviews of Fiction book is 63.37% which is 15683.791667 and Non Fiction book is 36.63% which is 9065.145161  .\n",
    "- The Prices of books are decreasing over the year from 2009-2019.\n",
    "- The Reviews of books are increasing over the year from 2009-2019.\n",
    "- The User Ratings is stable over the year from 2009-2019."
   ]
  },
  {
   "cell_type": "markdown",
   "id": "8f89fddd",
   "metadata": {},
   "source": [
    "# Conclusion\n"
   ]
  },
  {
   "cell_type": "raw",
   "id": "4090fa2f",
   "metadata": {},
   "source": [
    "From the above analysis as we seen trend,we can predict that in upcoming year,the prices of books will be decrease and Reviews be given more on the books.As there is very minor changes in the User Rating,we will not consider it. \n",
    "Also we can predict that in future,people may prefer more fiction books than non fiction books."
   ]
  },
  {
   "cell_type": "code",
   "execution_count": null,
   "id": "5c001db0",
   "metadata": {},
   "outputs": [],
   "source": []
  }
 ],
 "metadata": {
  "kernelspec": {
   "display_name": "Python 3",
   "language": "python",
   "name": "python3"
  },
  "language_info": {
   "codemirror_mode": {
    "name": "ipython",
    "version": 3
   },
   "file_extension": ".py",
   "mimetype": "text/x-python",
   "name": "python",
   "nbconvert_exporter": "python",
   "pygments_lexer": "ipython3",
   "version": "3.8.8"
  },
  "widgets": {
   "application/vnd.jupyter.widget-state+json": {
    "state": {},
    "version_major": 2,
    "version_minor": 0
   }
  }
 },
 "nbformat": 4,
 "nbformat_minor": 5
}
